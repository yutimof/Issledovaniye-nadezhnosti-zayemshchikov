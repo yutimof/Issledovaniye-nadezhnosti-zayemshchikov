{
 "cells": [
  {
   "cell_type": "markdown",
   "id": "85dc735f",
   "metadata": {},
   "source": [
    "<div style=\"border:solid Chocolate 2px; padding: 40px\">\n",
    "\n",
    "<b>Привет!👋</b>\n",
    "\n",
    "Меня зовут Огурлиев Анзор, я буду ревьюером твоего проекта. Сразу хочу предложить тебе общаться на \"ты\", если тебе это неудобно, скажи мне об этом. Нам предстоит пройти с тобой через тернистый и от того интересный путь анализа данных! Можешь не переживать, я всегда помогу тебе, если у тебя возникнут вопросы)\n",
    "\n",
    "По ходу твоей работы я буду оставлять свои комментарии, по выполненным тобой шагам. Попрошу тебя не удалять их, так мне будет проще отслеживать твой прогресс в случае повторной проверки. \n",
    "    \n",
    "Очень важно вести диалог и обсуждать те пункты, которые у тебя могли не получиться, поэтому, ты можешь оставлять свои комментарии, и мы обязательно во всем разберемся! Самое главное - выделяй свои комментарии удобным для тебя способом (цвет, рамка), но так, чтобы они отчетлитво отличались от моих комментариев. Так мы ни в чем не запутаемся)\n",
    "\n",
    "Свои комментарии я буду выделять так: <font color='green'>зеленый</font>, <font color='gold'>желтый</font> и <font color='red'>красный</font> цвет, например:\n",
    "\n",
    "<br/>\n",
    "\n",
    "<div class=\"alert alert-success\">\n",
    "<h2> Комментарий ревьюера V1<a class=\"tocSkip\"> </h2>\n",
    "\n",
    "<b>Все отлично!👍:</b> Этот комментарий я буду оставлять, если твое решение оптимально для данного шага.\n",
    "</div>\n",
    "\n",
    "<br/>\n",
    "\n",
    "<div class=\"alert alert-warning\">\n",
    "    <h2> Комментарий ревьюера V1<a class=\"tocSkip\"> </h2>\n",
    "    \n",
    "<b>Некоторые замечания и рекомендации💡:</b> Это не означает, что ты совершил ошибку. Такими комментариями я буду отмечать места, где ты справился с задачей, но её можно решить ещё лучше. Также в таких комментариях я буду оставлять для тебя другие советы.\n",
    "</div>\n",
    "\n",
    "\n",
    "<br/>\n",
    "<div class=\"alert alert-block alert-danger\">\n",
    "<h2> Комментарий ревьюера V1<a class=\"tocSkip\"></h2>\n",
    "\n",
    "    \n",
    "<b>На доработку🤔:</b>\n",
    "Если решение, которое ты применил на определенном шаге, требует значительных изменений, то я буду оставлять такой комментарий. Тебе нужно будет подумать еще раз как правильным образом решить данный этап. Если ревью содержит такие комментарии, то я не смогу принять проект с первого раза.\n",
    "</div>\n",
    "    \n",
    "P.S. В оглавлении комментария ты увидишь `V1` (`V1`, `V2`, `V3`) - это версия моего комментария, которая понадобится нам с тобой, чтобы не запутаться, если потребуется оставить тебе комментарии после первой проверки."
   ]
  },
  {
   "cell_type": "markdown",
   "id": "42b8e20a",
   "metadata": {
    "deletable": false,
    "editable": false,
    "id": "c81daeeb"
   },
   "source": [
    "# Исследование надежности заемщиков\n"
   ]
  },
  {
   "cell_type": "markdown",
   "id": "03362f54",
   "metadata": {
    "deletable": false,
    "editable": false,
    "id": "827c20bf"
   },
   "source": [
    "Во второй части проекта вы выполните шаги 3 и 4. Их вручную проверит ревьюер.\n",
    "Чтобы вам не пришлось писать код заново для шагов 1 и 2, мы добавили авторские решения в ячейки с кодом. \n",
    "\n"
   ]
  },
  {
   "cell_type": "markdown",
   "id": "a614d980",
   "metadata": {
    "deletable": false,
    "editable": false,
    "id": "744d7639"
   },
   "source": [
    "## Откройте таблицу и изучите общую информацию о данных"
   ]
  },
  {
   "cell_type": "markdown",
   "id": "e9791140",
   "metadata": {
    "deletable": false,
    "editable": false,
    "id": "e7a14c31"
   },
   "source": [
    "**Задание 1. Импортируйте библиотеку pandas. Считайте данные из csv-файла в датафрейм и сохраните в переменную `data`. Путь к файлу:**\n",
    "\n",
    "`/datasets/data.csv`"
   ]
  },
  {
   "cell_type": "code",
   "execution_count": 1,
   "id": "e33e9ee2",
   "metadata": {
    "deletable": false,
    "id": "7bcf75c9"
   },
   "outputs": [],
   "source": [
    "import pandas as pd\n",
    "\n",
    "try:\n",
    "    data = pd.read_csv('/datasets/data.csv')\n",
    "except:\n",
    "    data = pd.read_csv('https://code.s3.yandex.net/datasets/data.csv')"
   ]
  },
  {
   "cell_type": "markdown",
   "id": "09370f0c",
   "metadata": {
    "deletable": false,
    "editable": false,
    "id": "b8038fe3"
   },
   "source": [
    "**Задание 2. Выведите первые 20 строчек датафрейма `data` на экран.**"
   ]
  },
  {
   "cell_type": "code",
   "execution_count": 2,
   "id": "690e1cc9",
   "metadata": {
    "deletable": false,
    "id": "2a7cab99",
    "outputId": "1a8f3ef2-d323-4ec2-ddf7-89670b5944c4"
   },
   "outputs": [
    {
     "data": {
      "text/html": [
       "<div>\n",
       "<style scoped>\n",
       "    .dataframe tbody tr th:only-of-type {\n",
       "        vertical-align: middle;\n",
       "    }\n",
       "\n",
       "    .dataframe tbody tr th {\n",
       "        vertical-align: top;\n",
       "    }\n",
       "\n",
       "    .dataframe thead th {\n",
       "        text-align: right;\n",
       "    }\n",
       "</style>\n",
       "<table border=\"1\" class=\"dataframe\">\n",
       "  <thead>\n",
       "    <tr style=\"text-align: right;\">\n",
       "      <th></th>\n",
       "      <th>children</th>\n",
       "      <th>days_employed</th>\n",
       "      <th>dob_years</th>\n",
       "      <th>education</th>\n",
       "      <th>education_id</th>\n",
       "      <th>family_status</th>\n",
       "      <th>family_status_id</th>\n",
       "      <th>gender</th>\n",
       "      <th>income_type</th>\n",
       "      <th>debt</th>\n",
       "      <th>total_income</th>\n",
       "      <th>purpose</th>\n",
       "    </tr>\n",
       "  </thead>\n",
       "  <tbody>\n",
       "    <tr>\n",
       "      <th>0</th>\n",
       "      <td>1</td>\n",
       "      <td>-8437.673028</td>\n",
       "      <td>42</td>\n",
       "      <td>высшее</td>\n",
       "      <td>0</td>\n",
       "      <td>женат / замужем</td>\n",
       "      <td>0</td>\n",
       "      <td>F</td>\n",
       "      <td>сотрудник</td>\n",
       "      <td>0</td>\n",
       "      <td>253875.639453</td>\n",
       "      <td>покупка жилья</td>\n",
       "    </tr>\n",
       "    <tr>\n",
       "      <th>1</th>\n",
       "      <td>1</td>\n",
       "      <td>-4024.803754</td>\n",
       "      <td>36</td>\n",
       "      <td>среднее</td>\n",
       "      <td>1</td>\n",
       "      <td>женат / замужем</td>\n",
       "      <td>0</td>\n",
       "      <td>F</td>\n",
       "      <td>сотрудник</td>\n",
       "      <td>0</td>\n",
       "      <td>112080.014102</td>\n",
       "      <td>приобретение автомобиля</td>\n",
       "    </tr>\n",
       "    <tr>\n",
       "      <th>2</th>\n",
       "      <td>0</td>\n",
       "      <td>-5623.422610</td>\n",
       "      <td>33</td>\n",
       "      <td>Среднее</td>\n",
       "      <td>1</td>\n",
       "      <td>женат / замужем</td>\n",
       "      <td>0</td>\n",
       "      <td>M</td>\n",
       "      <td>сотрудник</td>\n",
       "      <td>0</td>\n",
       "      <td>145885.952297</td>\n",
       "      <td>покупка жилья</td>\n",
       "    </tr>\n",
       "    <tr>\n",
       "      <th>3</th>\n",
       "      <td>3</td>\n",
       "      <td>-4124.747207</td>\n",
       "      <td>32</td>\n",
       "      <td>среднее</td>\n",
       "      <td>1</td>\n",
       "      <td>женат / замужем</td>\n",
       "      <td>0</td>\n",
       "      <td>M</td>\n",
       "      <td>сотрудник</td>\n",
       "      <td>0</td>\n",
       "      <td>267628.550329</td>\n",
       "      <td>дополнительное образование</td>\n",
       "    </tr>\n",
       "    <tr>\n",
       "      <th>4</th>\n",
       "      <td>0</td>\n",
       "      <td>340266.072047</td>\n",
       "      <td>53</td>\n",
       "      <td>среднее</td>\n",
       "      <td>1</td>\n",
       "      <td>гражданский брак</td>\n",
       "      <td>1</td>\n",
       "      <td>F</td>\n",
       "      <td>пенсионер</td>\n",
       "      <td>0</td>\n",
       "      <td>158616.077870</td>\n",
       "      <td>сыграть свадьбу</td>\n",
       "    </tr>\n",
       "    <tr>\n",
       "      <th>5</th>\n",
       "      <td>0</td>\n",
       "      <td>-926.185831</td>\n",
       "      <td>27</td>\n",
       "      <td>высшее</td>\n",
       "      <td>0</td>\n",
       "      <td>гражданский брак</td>\n",
       "      <td>1</td>\n",
       "      <td>M</td>\n",
       "      <td>компаньон</td>\n",
       "      <td>0</td>\n",
       "      <td>255763.565419</td>\n",
       "      <td>покупка жилья</td>\n",
       "    </tr>\n",
       "    <tr>\n",
       "      <th>6</th>\n",
       "      <td>0</td>\n",
       "      <td>-2879.202052</td>\n",
       "      <td>43</td>\n",
       "      <td>высшее</td>\n",
       "      <td>0</td>\n",
       "      <td>женат / замужем</td>\n",
       "      <td>0</td>\n",
       "      <td>F</td>\n",
       "      <td>компаньон</td>\n",
       "      <td>0</td>\n",
       "      <td>240525.971920</td>\n",
       "      <td>операции с жильем</td>\n",
       "    </tr>\n",
       "    <tr>\n",
       "      <th>7</th>\n",
       "      <td>0</td>\n",
       "      <td>-152.779569</td>\n",
       "      <td>50</td>\n",
       "      <td>СРЕДНЕЕ</td>\n",
       "      <td>1</td>\n",
       "      <td>женат / замужем</td>\n",
       "      <td>0</td>\n",
       "      <td>M</td>\n",
       "      <td>сотрудник</td>\n",
       "      <td>0</td>\n",
       "      <td>135823.934197</td>\n",
       "      <td>образование</td>\n",
       "    </tr>\n",
       "    <tr>\n",
       "      <th>8</th>\n",
       "      <td>2</td>\n",
       "      <td>-6929.865299</td>\n",
       "      <td>35</td>\n",
       "      <td>ВЫСШЕЕ</td>\n",
       "      <td>0</td>\n",
       "      <td>гражданский брак</td>\n",
       "      <td>1</td>\n",
       "      <td>F</td>\n",
       "      <td>сотрудник</td>\n",
       "      <td>0</td>\n",
       "      <td>95856.832424</td>\n",
       "      <td>на проведение свадьбы</td>\n",
       "    </tr>\n",
       "    <tr>\n",
       "      <th>9</th>\n",
       "      <td>0</td>\n",
       "      <td>-2188.756445</td>\n",
       "      <td>41</td>\n",
       "      <td>среднее</td>\n",
       "      <td>1</td>\n",
       "      <td>женат / замужем</td>\n",
       "      <td>0</td>\n",
       "      <td>M</td>\n",
       "      <td>сотрудник</td>\n",
       "      <td>0</td>\n",
       "      <td>144425.938277</td>\n",
       "      <td>покупка жилья для семьи</td>\n",
       "    </tr>\n",
       "    <tr>\n",
       "      <th>10</th>\n",
       "      <td>2</td>\n",
       "      <td>-4171.483647</td>\n",
       "      <td>36</td>\n",
       "      <td>высшее</td>\n",
       "      <td>0</td>\n",
       "      <td>женат / замужем</td>\n",
       "      <td>0</td>\n",
       "      <td>M</td>\n",
       "      <td>компаньон</td>\n",
       "      <td>0</td>\n",
       "      <td>113943.491460</td>\n",
       "      <td>покупка недвижимости</td>\n",
       "    </tr>\n",
       "    <tr>\n",
       "      <th>11</th>\n",
       "      <td>0</td>\n",
       "      <td>-792.701887</td>\n",
       "      <td>40</td>\n",
       "      <td>среднее</td>\n",
       "      <td>1</td>\n",
       "      <td>женат / замужем</td>\n",
       "      <td>0</td>\n",
       "      <td>F</td>\n",
       "      <td>сотрудник</td>\n",
       "      <td>0</td>\n",
       "      <td>77069.234271</td>\n",
       "      <td>покупка коммерческой недвижимости</td>\n",
       "    </tr>\n",
       "    <tr>\n",
       "      <th>12</th>\n",
       "      <td>0</td>\n",
       "      <td>NaN</td>\n",
       "      <td>65</td>\n",
       "      <td>среднее</td>\n",
       "      <td>1</td>\n",
       "      <td>гражданский брак</td>\n",
       "      <td>1</td>\n",
       "      <td>M</td>\n",
       "      <td>пенсионер</td>\n",
       "      <td>0</td>\n",
       "      <td>NaN</td>\n",
       "      <td>сыграть свадьбу</td>\n",
       "    </tr>\n",
       "    <tr>\n",
       "      <th>13</th>\n",
       "      <td>0</td>\n",
       "      <td>-1846.641941</td>\n",
       "      <td>54</td>\n",
       "      <td>неоконченное высшее</td>\n",
       "      <td>2</td>\n",
       "      <td>женат / замужем</td>\n",
       "      <td>0</td>\n",
       "      <td>F</td>\n",
       "      <td>сотрудник</td>\n",
       "      <td>0</td>\n",
       "      <td>130458.228857</td>\n",
       "      <td>приобретение автомобиля</td>\n",
       "    </tr>\n",
       "    <tr>\n",
       "      <th>14</th>\n",
       "      <td>0</td>\n",
       "      <td>-1844.956182</td>\n",
       "      <td>56</td>\n",
       "      <td>высшее</td>\n",
       "      <td>0</td>\n",
       "      <td>гражданский брак</td>\n",
       "      <td>1</td>\n",
       "      <td>F</td>\n",
       "      <td>компаньон</td>\n",
       "      <td>1</td>\n",
       "      <td>165127.911772</td>\n",
       "      <td>покупка жилой недвижимости</td>\n",
       "    </tr>\n",
       "    <tr>\n",
       "      <th>15</th>\n",
       "      <td>1</td>\n",
       "      <td>-972.364419</td>\n",
       "      <td>26</td>\n",
       "      <td>среднее</td>\n",
       "      <td>1</td>\n",
       "      <td>женат / замужем</td>\n",
       "      <td>0</td>\n",
       "      <td>F</td>\n",
       "      <td>сотрудник</td>\n",
       "      <td>0</td>\n",
       "      <td>116820.904450</td>\n",
       "      <td>строительство собственной недвижимости</td>\n",
       "    </tr>\n",
       "    <tr>\n",
       "      <th>16</th>\n",
       "      <td>0</td>\n",
       "      <td>-1719.934226</td>\n",
       "      <td>35</td>\n",
       "      <td>среднее</td>\n",
       "      <td>1</td>\n",
       "      <td>женат / замужем</td>\n",
       "      <td>0</td>\n",
       "      <td>F</td>\n",
       "      <td>сотрудник</td>\n",
       "      <td>0</td>\n",
       "      <td>289202.704229</td>\n",
       "      <td>недвижимость</td>\n",
       "    </tr>\n",
       "    <tr>\n",
       "      <th>17</th>\n",
       "      <td>0</td>\n",
       "      <td>-2369.999720</td>\n",
       "      <td>33</td>\n",
       "      <td>высшее</td>\n",
       "      <td>0</td>\n",
       "      <td>гражданский брак</td>\n",
       "      <td>1</td>\n",
       "      <td>M</td>\n",
       "      <td>сотрудник</td>\n",
       "      <td>0</td>\n",
       "      <td>90410.586745</td>\n",
       "      <td>строительство недвижимости</td>\n",
       "    </tr>\n",
       "    <tr>\n",
       "      <th>18</th>\n",
       "      <td>0</td>\n",
       "      <td>400281.136913</td>\n",
       "      <td>53</td>\n",
       "      <td>среднее</td>\n",
       "      <td>1</td>\n",
       "      <td>вдовец / вдова</td>\n",
       "      <td>2</td>\n",
       "      <td>F</td>\n",
       "      <td>пенсионер</td>\n",
       "      <td>0</td>\n",
       "      <td>56823.777243</td>\n",
       "      <td>на покупку подержанного автомобиля</td>\n",
       "    </tr>\n",
       "    <tr>\n",
       "      <th>19</th>\n",
       "      <td>0</td>\n",
       "      <td>-10038.818549</td>\n",
       "      <td>48</td>\n",
       "      <td>СРЕДНЕЕ</td>\n",
       "      <td>1</td>\n",
       "      <td>в разводе</td>\n",
       "      <td>3</td>\n",
       "      <td>F</td>\n",
       "      <td>сотрудник</td>\n",
       "      <td>0</td>\n",
       "      <td>242831.107982</td>\n",
       "      <td>на покупку своего автомобиля</td>\n",
       "    </tr>\n",
       "  </tbody>\n",
       "</table>\n",
       "</div>"
      ],
      "text/plain": [
       "    children  days_employed  dob_years            education  education_id  \\\n",
       "0          1   -8437.673028         42               высшее             0   \n",
       "1          1   -4024.803754         36              среднее             1   \n",
       "2          0   -5623.422610         33              Среднее             1   \n",
       "3          3   -4124.747207         32              среднее             1   \n",
       "4          0  340266.072047         53              среднее             1   \n",
       "5          0    -926.185831         27               высшее             0   \n",
       "6          0   -2879.202052         43               высшее             0   \n",
       "7          0    -152.779569         50              СРЕДНЕЕ             1   \n",
       "8          2   -6929.865299         35               ВЫСШЕЕ             0   \n",
       "9          0   -2188.756445         41              среднее             1   \n",
       "10         2   -4171.483647         36               высшее             0   \n",
       "11         0    -792.701887         40              среднее             1   \n",
       "12         0            NaN         65              среднее             1   \n",
       "13         0   -1846.641941         54  неоконченное высшее             2   \n",
       "14         0   -1844.956182         56               высшее             0   \n",
       "15         1    -972.364419         26              среднее             1   \n",
       "16         0   -1719.934226         35              среднее             1   \n",
       "17         0   -2369.999720         33               высшее             0   \n",
       "18         0  400281.136913         53              среднее             1   \n",
       "19         0  -10038.818549         48              СРЕДНЕЕ             1   \n",
       "\n",
       "       family_status  family_status_id gender income_type  debt  \\\n",
       "0    женат / замужем                 0      F   сотрудник     0   \n",
       "1    женат / замужем                 0      F   сотрудник     0   \n",
       "2    женат / замужем                 0      M   сотрудник     0   \n",
       "3    женат / замужем                 0      M   сотрудник     0   \n",
       "4   гражданский брак                 1      F   пенсионер     0   \n",
       "5   гражданский брак                 1      M   компаньон     0   \n",
       "6    женат / замужем                 0      F   компаньон     0   \n",
       "7    женат / замужем                 0      M   сотрудник     0   \n",
       "8   гражданский брак                 1      F   сотрудник     0   \n",
       "9    женат / замужем                 0      M   сотрудник     0   \n",
       "10   женат / замужем                 0      M   компаньон     0   \n",
       "11   женат / замужем                 0      F   сотрудник     0   \n",
       "12  гражданский брак                 1      M   пенсионер     0   \n",
       "13   женат / замужем                 0      F   сотрудник     0   \n",
       "14  гражданский брак                 1      F   компаньон     1   \n",
       "15   женат / замужем                 0      F   сотрудник     0   \n",
       "16   женат / замужем                 0      F   сотрудник     0   \n",
       "17  гражданский брак                 1      M   сотрудник     0   \n",
       "18    вдовец / вдова                 2      F   пенсионер     0   \n",
       "19         в разводе                 3      F   сотрудник     0   \n",
       "\n",
       "     total_income                                 purpose  \n",
       "0   253875.639453                           покупка жилья  \n",
       "1   112080.014102                 приобретение автомобиля  \n",
       "2   145885.952297                           покупка жилья  \n",
       "3   267628.550329              дополнительное образование  \n",
       "4   158616.077870                         сыграть свадьбу  \n",
       "5   255763.565419                           покупка жилья  \n",
       "6   240525.971920                       операции с жильем  \n",
       "7   135823.934197                             образование  \n",
       "8    95856.832424                   на проведение свадьбы  \n",
       "9   144425.938277                 покупка жилья для семьи  \n",
       "10  113943.491460                    покупка недвижимости  \n",
       "11   77069.234271       покупка коммерческой недвижимости  \n",
       "12            NaN                         сыграть свадьбу  \n",
       "13  130458.228857                 приобретение автомобиля  \n",
       "14  165127.911772              покупка жилой недвижимости  \n",
       "15  116820.904450  строительство собственной недвижимости  \n",
       "16  289202.704229                            недвижимость  \n",
       "17   90410.586745              строительство недвижимости  \n",
       "18   56823.777243      на покупку подержанного автомобиля  \n",
       "19  242831.107982            на покупку своего автомобиля  "
      ]
     },
     "execution_count": 2,
     "metadata": {},
     "output_type": "execute_result"
    }
   ],
   "source": [
    "data.head(20)"
   ]
  },
  {
   "cell_type": "markdown",
   "id": "888584c7",
   "metadata": {
    "deletable": false,
    "editable": false,
    "id": "1c12e233"
   },
   "source": [
    "**Задание 3. Выведите основную информацию о датафрейме с помощью метода `info()`.**"
   ]
  },
  {
   "cell_type": "code",
   "execution_count": 3,
   "id": "8d908c56",
   "metadata": {
    "deletable": false,
    "id": "2b757bca",
    "outputId": "15376089-8dad-46c9-b520-c05248d43158"
   },
   "outputs": [
    {
     "name": "stdout",
     "output_type": "stream",
     "text": [
      "<class 'pandas.core.frame.DataFrame'>\n",
      "RangeIndex: 21525 entries, 0 to 21524\n",
      "Data columns (total 12 columns):\n",
      " #   Column            Non-Null Count  Dtype  \n",
      "---  ------            --------------  -----  \n",
      " 0   children          21525 non-null  int64  \n",
      " 1   days_employed     19351 non-null  float64\n",
      " 2   dob_years         21525 non-null  int64  \n",
      " 3   education         21525 non-null  object \n",
      " 4   education_id      21525 non-null  int64  \n",
      " 5   family_status     21525 non-null  object \n",
      " 6   family_status_id  21525 non-null  int64  \n",
      " 7   gender            21525 non-null  object \n",
      " 8   income_type       21525 non-null  object \n",
      " 9   debt              21525 non-null  int64  \n",
      " 10  total_income      19351 non-null  float64\n",
      " 11  purpose           21525 non-null  object \n",
      "dtypes: float64(2), int64(5), object(5)\n",
      "memory usage: 2.0+ MB\n"
     ]
    }
   ],
   "source": [
    "data.info()"
   ]
  },
  {
   "cell_type": "markdown",
   "id": "30e21d56",
   "metadata": {
    "deletable": false,
    "editable": false,
    "id": "333ec665"
   },
   "source": [
    "## Предобработка данных"
   ]
  },
  {
   "cell_type": "markdown",
   "id": "d7f203fa",
   "metadata": {
    "deletable": false,
    "editable": false,
    "id": "02d92d53"
   },
   "source": [
    "### Удаление пропусков"
   ]
  },
  {
   "cell_type": "markdown",
   "id": "9dc7e8f8",
   "metadata": {
    "deletable": false,
    "editable": false,
    "id": "cd84967c"
   },
   "source": [
    "**Задание 4. Выведите количество пропущенных значений для каждого столбца. Используйте комбинацию двух методов.**"
   ]
  },
  {
   "cell_type": "code",
   "execution_count": 4,
   "id": "7b9495df",
   "metadata": {
    "deletable": false,
    "id": "7f9b2309",
    "outputId": "81f4d817-781c-465c-ed15-91ce4446810d"
   },
   "outputs": [
    {
     "data": {
      "text/plain": [
       "children               0\n",
       "days_employed       2174\n",
       "dob_years              0\n",
       "education              0\n",
       "education_id           0\n",
       "family_status          0\n",
       "family_status_id       0\n",
       "gender                 0\n",
       "income_type            0\n",
       "debt                   0\n",
       "total_income        2174\n",
       "purpose                0\n",
       "dtype: int64"
      ]
     },
     "execution_count": 4,
     "metadata": {},
     "output_type": "execute_result"
    }
   ],
   "source": [
    "data.isna().sum()"
   ]
  },
  {
   "cell_type": "markdown",
   "id": "9efa366f",
   "metadata": {
    "deletable": false,
    "editable": false,
    "id": "db86e27b"
   },
   "source": [
    "**Задание 5. В двух столбцах есть пропущенные значения. Один из них — `days_employed`. Пропуски в этом столбце вы обработаете на следующем этапе. Другой столбец с пропущенными значениями — `total_income` — хранит данные о доходах. На сумму дохода сильнее всего влияет тип занятости, поэтому заполнить пропуски в этом столбце нужно медианным значением по каждому типу из столбца `income_type`. Например, у человека с типом занятости `сотрудник` пропуск в столбце `total_income` должен быть заполнен медианным доходом среди всех записей с тем же типом.**"
   ]
  },
  {
   "cell_type": "code",
   "execution_count": 5,
   "id": "f9e8c16a",
   "metadata": {
    "deletable": false,
    "id": "42006a93"
   },
   "outputs": [],
   "source": [
    "for t in data['income_type'].unique():\n",
    "    data.loc[(data['income_type'] == t) & (data['total_income'].isna()), 'total_income'] = \\\n",
    "    data.loc[(data['income_type'] == t), 'total_income'].median()"
   ]
  },
  {
   "cell_type": "markdown",
   "id": "cef4191d",
   "metadata": {
    "deletable": false,
    "editable": false,
    "id": "89da5ece"
   },
   "source": [
    "### Обработка аномальных значений"
   ]
  },
  {
   "cell_type": "markdown",
   "id": "bc85f453",
   "metadata": {
    "deletable": false,
    "editable": false,
    "id": "57964554"
   },
   "source": [
    "**Задание 6. В данных могут встречаться артефакты (аномалии) — значения, которые не отражают действительность и появились по какой-то ошибке. таким артефактом будет отрицательное количество дней трудового стажа в столбце `days_employed`. Для реальных данных это нормально. Обработайте значения в этом столбце: замените все отрицательные значения положительными с помощью метода `abs()`.**"
   ]
  },
  {
   "cell_type": "code",
   "execution_count": 6,
   "id": "5fd8ee9a",
   "metadata": {
    "deletable": false,
    "id": "f6f055bf"
   },
   "outputs": [],
   "source": [
    "data['days_employed'] = data['days_employed'].abs()"
   ]
  },
  {
   "cell_type": "markdown",
   "id": "cb18d9be",
   "metadata": {
    "deletable": false,
    "editable": false,
    "id": "6107dd2f"
   },
   "source": [
    "**Задание 7. Для каждого типа занятости выведите медианное значение трудового стажа `days_employed` в днях.**"
   ]
  },
  {
   "cell_type": "code",
   "execution_count": 7,
   "id": "770ed54e",
   "metadata": {
    "deletable": false,
    "id": "85a5faf6",
    "outputId": "801ef80e-522b-4668-f34e-565af7432bcf"
   },
   "outputs": [
    {
     "data": {
      "text/plain": [
       "income_type\n",
       "безработный        366413.652744\n",
       "в декрете            3296.759962\n",
       "госслужащий          2689.368353\n",
       "компаньон            1547.382223\n",
       "пенсионер          365213.306266\n",
       "предприниматель       520.848083\n",
       "сотрудник            1574.202821\n",
       "студент               578.751554\n",
       "Name: days_employed, dtype: float64"
      ]
     },
     "execution_count": 7,
     "metadata": {},
     "output_type": "execute_result"
    }
   ],
   "source": [
    "data.groupby('income_type')['days_employed'].agg('median')"
   ]
  },
  {
   "cell_type": "markdown",
   "id": "5f5a7758",
   "metadata": {
    "deletable": false,
    "editable": false,
    "id": "38d1a030"
   },
   "source": [
    "У двух типов (безработные и пенсионеры) получатся аномально большие значения. Исправить такие значения сложно, поэтому оставьте их как есть. Тем более этот столбец не понадобится вам для исследования."
   ]
  },
  {
   "cell_type": "markdown",
   "id": "bf3b5798",
   "metadata": {
    "deletable": false,
    "editable": false,
    "id": "d8a9f147"
   },
   "source": [
    "**Задание 8. Выведите перечень уникальных значений столбца `children`.**"
   ]
  },
  {
   "cell_type": "code",
   "execution_count": 8,
   "id": "ad672145",
   "metadata": {
    "deletable": false,
    "id": "ef5056eb",
    "outputId": "6975b15c-7f95-4697-d16d-a0c79b657b03"
   },
   "outputs": [
    {
     "data": {
      "text/plain": [
       "array([ 1,  0,  3,  2, -1,  4, 20,  5])"
      ]
     },
     "execution_count": 8,
     "metadata": {},
     "output_type": "execute_result"
    }
   ],
   "source": [
    "data['children'].unique()"
   ]
  },
  {
   "cell_type": "markdown",
   "id": "068ae994",
   "metadata": {
    "deletable": false,
    "editable": false,
    "id": "40b9ebf2"
   },
   "source": [
    "**Задание 9. В столбце `children` есть два аномальных значения. Удалите строки, в которых встречаются такие аномальные значения из датафрейма `data`.**"
   ]
  },
  {
   "cell_type": "code",
   "execution_count": 9,
   "id": "69d2e0b8",
   "metadata": {
    "deletable": false,
    "id": "3ff9801d"
   },
   "outputs": [],
   "source": [
    "data = data[(data['children'] != -1) & (data['children'] != 20)]"
   ]
  },
  {
   "cell_type": "markdown",
   "id": "402656bd",
   "metadata": {
    "deletable": false,
    "editable": false,
    "id": "bbc4d0ce"
   },
   "source": [
    "**Задание 10. Ещё раз выведите перечень уникальных значений столбца `children`, чтобы убедиться, что артефакты удалены.**"
   ]
  },
  {
   "cell_type": "code",
   "execution_count": 10,
   "id": "ac92d025",
   "metadata": {
    "deletable": false,
    "id": "ad4fa8b7",
    "outputId": "b2097101-d49d-44d9-901b-32a65c9463d1"
   },
   "outputs": [
    {
     "data": {
      "text/plain": [
       "array([1, 0, 3, 2, 4, 5])"
      ]
     },
     "execution_count": 10,
     "metadata": {},
     "output_type": "execute_result"
    }
   ],
   "source": [
    "data['children'].unique()"
   ]
  },
  {
   "cell_type": "markdown",
   "id": "b247c14b",
   "metadata": {
    "deletable": false,
    "editable": false,
    "id": "75440b63"
   },
   "source": [
    "### Удаление пропусков (продолжение)"
   ]
  },
  {
   "cell_type": "markdown",
   "id": "bfeb5dba",
   "metadata": {
    "deletable": false,
    "editable": false,
    "id": "f4ea573f"
   },
   "source": [
    "**Задание 11. Заполните пропуски в столбце `days_employed` медианными значениями по каждого типа занятости `income_type`.**"
   ]
  },
  {
   "cell_type": "code",
   "execution_count": 11,
   "id": "d873febe",
   "metadata": {
    "deletable": false,
    "id": "af6b1a7e"
   },
   "outputs": [],
   "source": [
    "for t in data['income_type'].unique():\n",
    "    data.loc[(data['income_type'] == t) & (data['days_employed'].isna()), 'days_employed'] = \\\n",
    "    data.loc[(data['income_type'] == t), 'days_employed'].median()"
   ]
  },
  {
   "cell_type": "markdown",
   "id": "93fb3781",
   "metadata": {
    "deletable": false,
    "editable": false,
    "id": "2753f40d"
   },
   "source": [
    "**Задание 12. Убедитесь, что все пропуски заполнены. Проверьте себя и ещё раз выведите количество пропущенных значений для каждого столбца с помощью двух методов.**"
   ]
  },
  {
   "cell_type": "code",
   "execution_count": 12,
   "id": "2051be78",
   "metadata": {
    "deletable": false,
    "id": "55f78bc2",
    "outputId": "8da1e4e1-358e-4e87-98c9-f261bce0a7b2"
   },
   "outputs": [
    {
     "data": {
      "text/plain": [
       "children            0\n",
       "days_employed       0\n",
       "dob_years           0\n",
       "education           0\n",
       "education_id        0\n",
       "family_status       0\n",
       "family_status_id    0\n",
       "gender              0\n",
       "income_type         0\n",
       "debt                0\n",
       "total_income        0\n",
       "purpose             0\n",
       "dtype: int64"
      ]
     },
     "execution_count": 12,
     "metadata": {},
     "output_type": "execute_result"
    }
   ],
   "source": [
    "data.isna().sum()"
   ]
  },
  {
   "cell_type": "markdown",
   "id": "6f7b3f75",
   "metadata": {
    "deletable": false,
    "editable": false,
    "id": "ddc81e43"
   },
   "source": [
    "### Изменение типов данных"
   ]
  },
  {
   "cell_type": "markdown",
   "id": "14f4fdbb",
   "metadata": {
    "deletable": false,
    "editable": false,
    "id": "42d19d24"
   },
   "source": [
    "**Задание 13. Замените вещественный тип данных в столбце `total_income` на целочисленный с помощью метода `astype()`.**"
   ]
  },
  {
   "cell_type": "code",
   "execution_count": 13,
   "id": "e88a5b94",
   "metadata": {
    "deletable": false,
    "id": "920b65ad"
   },
   "outputs": [],
   "source": [
    "data['total_income'] = data['total_income'].astype(int)"
   ]
  },
  {
   "cell_type": "markdown",
   "id": "bf186253",
   "metadata": {
    "deletable": false,
    "editable": false,
    "id": "80c420ba"
   },
   "source": [
    "### Обработка дубликатов"
   ]
  },
  {
   "cell_type": "markdown",
   "id": "00c4d6fd",
   "metadata": {
    "deletable": false,
    "editable": false
   },
   "source": [
    "**Задание 14. Обработайте неявные дубликаты в столбце `education`. В этом столбце есть одни и те же значения, но записанные по-разному: с использованием заглавных и строчных букв. Приведите их к нижнему регистру. Проверьте остальные столбцы.**"
   ]
  },
  {
   "cell_type": "code",
   "execution_count": 14,
   "id": "85e6173b",
   "metadata": {
    "deletable": false
   },
   "outputs": [],
   "source": [
    "data['education'] = data['education'].str.lower()"
   ]
  },
  {
   "cell_type": "markdown",
   "id": "f892217e",
   "metadata": {
    "deletable": false,
    "editable": false,
    "id": "dc587695"
   },
   "source": [
    "**Задание 15. Выведите на экран количество строк-дубликатов в данных. Если такие строки присутствуют, удалите их.**"
   ]
  },
  {
   "cell_type": "code",
   "execution_count": 15,
   "id": "c702816c",
   "metadata": {
    "deletable": false,
    "id": "3ee445e4",
    "outputId": "9684deba-1934-42d1-99e1-cda61740f822"
   },
   "outputs": [
    {
     "data": {
      "text/plain": [
       "71"
      ]
     },
     "execution_count": 15,
     "metadata": {},
     "output_type": "execute_result"
    }
   ],
   "source": [
    "data.duplicated().sum()"
   ]
  },
  {
   "cell_type": "code",
   "execution_count": 16,
   "id": "eaf48c52",
   "metadata": {
    "deletable": false,
    "id": "8575fe05"
   },
   "outputs": [],
   "source": [
    "data = data.drop_duplicates()"
   ]
  },
  {
   "cell_type": "markdown",
   "id": "8ded38a5",
   "metadata": {
    "deletable": false,
    "editable": false,
    "id": "9904cf55"
   },
   "source": [
    "### Категоризация данных"
   ]
  },
  {
   "cell_type": "markdown",
   "id": "b5e64476",
   "metadata": {
    "deletable": false,
    "editable": false,
    "id": "72fcc8a2"
   },
   "source": [
    "**Задание 16. На основании диапазонов, указанных ниже, создайте в датафрейме `data` столбец `total_income_category` с категориями:**\n",
    "\n",
    "- 0–30000 — `'E'`;\n",
    "- 30001–50000 — `'D'`;\n",
    "- 50001–200000 — `'C'`;\n",
    "- 200001–1000000 — `'B'`;\n",
    "- 1000001 и выше — `'A'`.\n",
    "\n",
    "\n",
    "**Например, кредитополучателю с доходом 25000 нужно назначить категорию `'E'`, а клиенту, получающему 235000, — `'B'`. Используйте собственную функцию с именем `categorize_income()` и метод `apply()`.**"
   ]
  },
  {
   "cell_type": "code",
   "execution_count": 17,
   "id": "e783afd6",
   "metadata": {
    "deletable": false,
    "id": "e1771346"
   },
   "outputs": [],
   "source": [
    "def categorize_income(income):\n",
    "    try:\n",
    "        if 0 <= income <= 30000:\n",
    "            return 'E'\n",
    "        elif 30001 <= income <= 50000:\n",
    "            return 'D'\n",
    "        elif 50001 <= income <= 200000:\n",
    "            return 'C'\n",
    "        elif 200001 <= income <= 1000000:\n",
    "            return 'B'\n",
    "        elif income >= 1000001:\n",
    "            return 'A'\n",
    "    except:\n",
    "        pass"
   ]
  },
  {
   "cell_type": "code",
   "execution_count": 18,
   "id": "2a3e821a",
   "metadata": {
    "deletable": false,
    "id": "d5f3586d"
   },
   "outputs": [],
   "source": [
    "data['total_income_category'] = data['total_income'].apply(categorize_income)"
   ]
  },
  {
   "cell_type": "markdown",
   "id": "115d591c",
   "metadata": {
    "deletable": false,
    "editable": false,
    "id": "dde49b5c"
   },
   "source": [
    "**Задание 17. Выведите на экран перечень уникальных целей взятия кредита из столбца `purpose`.**"
   ]
  },
  {
   "cell_type": "code",
   "execution_count": 19,
   "id": "bd95f509",
   "metadata": {
    "deletable": false,
    "id": "f67ce9b3",
    "outputId": "673c12d9-7d7e-4ae0-9812-c622c89dd244"
   },
   "outputs": [
    {
     "data": {
      "text/plain": [
       "array(['покупка жилья', 'приобретение автомобиля',\n",
       "       'дополнительное образование', 'сыграть свадьбу',\n",
       "       'операции с жильем', 'образование', 'на проведение свадьбы',\n",
       "       'покупка жилья для семьи', 'покупка недвижимости',\n",
       "       'покупка коммерческой недвижимости', 'покупка жилой недвижимости',\n",
       "       'строительство собственной недвижимости', 'недвижимость',\n",
       "       'строительство недвижимости', 'на покупку подержанного автомобиля',\n",
       "       'на покупку своего автомобиля',\n",
       "       'операции с коммерческой недвижимостью',\n",
       "       'строительство жилой недвижимости', 'жилье',\n",
       "       'операции со своей недвижимостью', 'автомобили',\n",
       "       'заняться образованием', 'сделка с подержанным автомобилем',\n",
       "       'получение образования', 'автомобиль', 'свадьба',\n",
       "       'получение дополнительного образования', 'покупка своего жилья',\n",
       "       'операции с недвижимостью', 'получение высшего образования',\n",
       "       'свой автомобиль', 'сделка с автомобилем',\n",
       "       'профильное образование', 'высшее образование',\n",
       "       'покупка жилья для сдачи', 'на покупку автомобиля', 'ремонт жилью',\n",
       "       'заняться высшим образованием'], dtype=object)"
      ]
     },
     "execution_count": 19,
     "metadata": {},
     "output_type": "execute_result"
    }
   ],
   "source": [
    "data['purpose'].unique()"
   ]
  },
  {
   "cell_type": "markdown",
   "id": "93ede811",
   "metadata": {
    "deletable": false,
    "editable": false,
    "id": "85d0aef0"
   },
   "source": [
    "**Задание 18. Создайте функцию, которая на основании данных из столбца `purpose` сформирует новый столбец `purpose_category`, в который войдут следующие категории:**\n",
    "\n",
    "- `'операции с автомобилем'`,\n",
    "- `'операции с недвижимостью'`,\n",
    "- `'проведение свадьбы'`,\n",
    "- `'получение образования'`.\n",
    "\n",
    "**Например, если в столбце `purpose` находится подстрока `'на покупку автомобиля'`, то в столбце `purpose_category` должна появиться строка `'операции с автомобилем'`.**\n",
    "\n",
    "**Используйте собственную функцию с именем `categorize_purpose()` и метод `apply()`. Изучите данные в столбце `purpose` и определите, какие подстроки помогут вам правильно определить категорию.**"
   ]
  },
  {
   "cell_type": "code",
   "execution_count": 20,
   "id": "448d34ed",
   "metadata": {
    "deletable": false,
    "id": "e149fab4"
   },
   "outputs": [],
   "source": [
    "def categorize_purpose(row):\n",
    "    try:\n",
    "        if 'автом' in row:\n",
    "            return 'операции с автомобилем'\n",
    "        elif 'жил' in row or 'недвиж' in row:\n",
    "            return 'операции с недвижимостью'\n",
    "        elif 'свад' in row:\n",
    "            return 'проведение свадьбы'\n",
    "        elif 'образов' in row:\n",
    "            return 'получение образования'\n",
    "    except:\n",
    "        return 'нет категории'"
   ]
  },
  {
   "cell_type": "code",
   "execution_count": 21,
   "id": "41b828a7",
   "metadata": {
    "deletable": false,
    "id": "bf36e69b"
   },
   "outputs": [],
   "source": [
    "data['purpose_category'] = data['purpose'].apply(categorize_purpose)"
   ]
  },
  {
   "cell_type": "markdown",
   "id": "0ed7f9da",
   "metadata": {
    "deletable": false,
    "editable": false,
    "id": "09b242bf"
   },
   "source": [
    "### Шаг 3. Исследуйте данные и ответьте на вопросы"
   ]
  },
  {
   "cell_type": "markdown",
   "id": "6618c1cb",
   "metadata": {
    "deletable": false,
    "editable": false,
    "id": "c5d66278"
   },
   "source": [
    "#### 3.1 Есть ли зависимость между количеством детей и возвратом кредита в срок?"
   ]
  },
  {
   "cell_type": "code",
   "execution_count": 22,
   "id": "b32b8534",
   "metadata": {
    "deletable": false,
    "id": "2cacfc4a"
   },
   "outputs": [
    {
     "data": {
      "text/plain": [
       "0    14091\n",
       "1     4808\n",
       "2     2052\n",
       "3      330\n",
       "4       41\n",
       "5        9\n",
       "Name: children, dtype: int64"
      ]
     },
     "execution_count": 22,
     "metadata": {},
     "output_type": "execute_result"
    }
   ],
   "source": [
    "# Ваш код будет здесь. Вы можете создавать новые ячейки.\n",
    "# Выясним уникальные значения количества детей\n",
    "data['children'].value_counts()"
   ]
  },
  {
   "cell_type": "code",
   "execution_count": 23,
   "id": "3c669ca8",
   "metadata": {},
   "outputs": [
    {
     "name": "stdout",
     "output_type": "stream",
     "text": [
      "Конверсия для заемщиков с детьми равна: 9.240%\n",
      "Конверсия для заемщиков без детей равна: 7.544%\n"
     ]
    }
   ],
   "source": [
    "# Выясним влияет ли начилие детей на образования долга по кредиту и тоже самое без детей\n",
    "with_children = data[data['children'] != 0]['children'].count()\n",
    "with_children_debt = data[(data['children'] != 0) & (data['debt'] == 1)]['children'].count()\n",
    "without_children = data[data['children'] == 0]['children'].count()\n",
    "without_children_debt = data[(data['children'] == 0) & (data['debt'] == 1)]['children'].count()\n",
    "\n",
    "conversion_with_children = with_children_debt / with_children\n",
    "conversion_without_children = without_children_debt / without_children\n",
    "\n",
    "print(f'Конверсия для заемщиков с детьми равна: {conversion_with_children:.3%}')\n",
    "print(f'Конверсия для заемщиков без детей равна: {conversion_without_children:.3%}')"
   ]
  },
  {
   "cell_type": "code",
   "execution_count": 24,
   "id": "b9dd71f4",
   "metadata": {},
   "outputs": [
    {
     "name": "stdout",
     "output_type": "stream",
     "text": [
      "Конверсия для заемщиков с одним ребенком равна: 9.235%\n",
      "Конверсия для заемщиков с двумя детьми равна: 9.454%\n",
      "Конверсия для заемщиков с тремя детьми равна: 8.182%\n",
      "Конверсия для заемщиков с четырьмя равна: 9.756%\n",
      "Конверсия для заемщиков с пятью детьми равна: 0.000%\n"
     ]
    }
   ],
   "source": [
    "# Выясним как влияет количество детей на образования долга по кредиту\n",
    "with_children_1 = data[data['children'] == 1]['children'].count()\n",
    "with_children_debt_1 = data[(data['children'] == 1) & (data['debt'] == 1)]['children'].count()\n",
    "with_children_2 = data[data['children'] == 2]['children'].count()\n",
    "with_children_debt_2 = data[(data['children'] == 2) & (data['debt'] == 1)]['children'].count()\n",
    "with_children_3 = data[data['children'] == 3]['children'].count()\n",
    "with_children_debt_3 = data[(data['children'] == 3) & (data['debt'] == 1)]['children'].count()\n",
    "with_children_4 = data[data['children'] == 4]['children'].count()\n",
    "with_children_debt_4 = data[(data['children'] == 4) & (data['debt'] == 1)]['children'].count()\n",
    "with_children_5 = data[data['children'] == 5]['children'].count()\n",
    "with_children_debt_5 = data[(data['children'] == 5) & (data['debt'] == 1)]['children'].count()\n",
    "\n",
    "conversion_with_children_1 = with_children_debt_1 / with_children_1\n",
    "conversion_with_children_2 = with_children_debt_2 / with_children_2\n",
    "conversion_with_children_3 = with_children_debt_3 / with_children_3\n",
    "conversion_with_children_4 = with_children_debt_4 / with_children_4\n",
    "conversion_with_children_5 = with_children_debt_5 / with_children_5\n",
    "\n",
    "print(f'Конверсия для заемщиков с одним ребенком равна: {conversion_with_children_1:.3%}')\n",
    "print(f'Конверсия для заемщиков с двумя детьми равна: {conversion_with_children_2:.3%}')\n",
    "print(f'Конверсия для заемщиков с тремя детьми равна: {conversion_with_children_3:.3%}')\n",
    "print(f'Конверсия для заемщиков с четырьмя равна: {conversion_with_children_4:.3%}')\n",
    "print(f'Конверсия для заемщиков с пятью детьми равна: {conversion_with_children_5:.3%}')"
   ]
  },
  {
   "cell_type": "code",
   "execution_count": 25,
   "id": "3713ff81",
   "metadata": {},
   "outputs": [
    {
     "data": {
      "text/plain": [
       "444"
      ]
     },
     "execution_count": 25,
     "metadata": {},
     "output_type": "execute_result"
    }
   ],
   "source": [
    "with_children_debt_1"
   ]
  },
  {
   "cell_type": "markdown",
   "id": "fe691e30",
   "metadata": {},
   "source": [
    "<div class=\"alert alert-block alert-danger\">\n",
    "<h2> Комментарий ревьюера V1<a class=\"tocSkip\"></h2>\n",
    "\n",
    "    \n",
    "<b>На доработку🤔:</b>\n",
    "Нужно построить сводную таблицу с помощью метода `groupby()` или `pivot_table()`. В данной таблице должна быть вся необходимая информация для анализа. Нужно вывести такие столбцы: количество клиентов, количество просрочек, доля просрочек по группам.\n",
    "</div>"
   ]
  },
  {
   "cell_type": "code",
   "execution_count": 26,
   "id": "de572dd9",
   "metadata": {},
   "outputs": [
    {
     "data": {
      "text/html": [
       "<div>\n",
       "<style scoped>\n",
       "    .dataframe tbody tr th:only-of-type {\n",
       "        vertical-align: middle;\n",
       "    }\n",
       "\n",
       "    .dataframe tbody tr th {\n",
       "        vertical-align: top;\n",
       "    }\n",
       "\n",
       "    .dataframe thead th {\n",
       "        text-align: right;\n",
       "    }\n",
       "</style>\n",
       "<table border=\"1\" class=\"dataframe\">\n",
       "  <thead>\n",
       "    <tr style=\"text-align: right;\">\n",
       "      <th></th>\n",
       "      <th>Кол-во просрочек</th>\n",
       "      <th>Количество заемщиков</th>\n",
       "      <th>Доля просрочек</th>\n",
       "    </tr>\n",
       "    <tr>\n",
       "      <th>children</th>\n",
       "      <th></th>\n",
       "      <th></th>\n",
       "      <th></th>\n",
       "    </tr>\n",
       "  </thead>\n",
       "  <tbody>\n",
       "    <tr>\n",
       "      <th>5</th>\n",
       "      <td>0</td>\n",
       "      <td>9</td>\n",
       "      <td>0.000000</td>\n",
       "    </tr>\n",
       "    <tr>\n",
       "      <th>0</th>\n",
       "      <td>1063</td>\n",
       "      <td>14091</td>\n",
       "      <td>7.543822</td>\n",
       "    </tr>\n",
       "    <tr>\n",
       "      <th>3</th>\n",
       "      <td>27</td>\n",
       "      <td>330</td>\n",
       "      <td>8.181818</td>\n",
       "    </tr>\n",
       "    <tr>\n",
       "      <th>1</th>\n",
       "      <td>444</td>\n",
       "      <td>4808</td>\n",
       "      <td>9.234609</td>\n",
       "    </tr>\n",
       "    <tr>\n",
       "      <th>2</th>\n",
       "      <td>194</td>\n",
       "      <td>2052</td>\n",
       "      <td>9.454191</td>\n",
       "    </tr>\n",
       "    <tr>\n",
       "      <th>4</th>\n",
       "      <td>4</td>\n",
       "      <td>41</td>\n",
       "      <td>9.756098</td>\n",
       "    </tr>\n",
       "  </tbody>\n",
       "</table>\n",
       "</div>"
      ],
      "text/plain": [
       "          Кол-во просрочек  Количество заемщиков  Доля просрочек\n",
       "children                                                        \n",
       "5                        0                     9        0.000000\n",
       "0                     1063                 14091        7.543822\n",
       "3                       27                   330        8.181818\n",
       "1                      444                  4808        9.234609\n",
       "2                      194                  2052        9.454191\n",
       "4                        4                    41        9.756098"
      ]
     },
     "execution_count": 26,
     "metadata": {},
     "output_type": "execute_result"
    }
   ],
   "source": [
    "data_pivot_children = data.pivot_table(index=['children'], values=['debt'], aggfunc=['sum', 'count'])\n",
    "data_pivot_children.columns=['Кол-во просрочек', 'Количество заемщиков']\n",
    "data_pivot_children['Доля просрочек'] = data_pivot_children['Кол-во просрочек'] / data_pivot_children['Количество заемщиков'] *100\n",
    "data_pivot_children = data_pivot_children.sort_values(by = 'Доля просрочек')\n",
    "data_pivot_children"
   ]
  },
  {
   "cell_type": "markdown",
   "id": "348cc09e",
   "metadata": {},
   "source": [
    "<div class=\"alert alert-success\">\n",
    "<h2> Комментарий ревьюера V2<a class=\"tocSkip\"> </h2>\n",
    "\n",
    "<b>Все отлично!👍:</b> Правильно построил сводную таблицу, молодец!\n",
    "</div>"
   ]
  },
  {
   "cell_type": "markdown",
   "id": "f8688247",
   "metadata": {
    "deletable": false,
    "id": "3a6b99ec"
   },
   "source": [
    "**Вывод:** \n",
    "1. Заемщики без детей берут кредиты активнее.\n",
    "2. Заемщики с детьми оформляют кредиты менее активно, но при этом риск возникновения задолженности выше, чем у заемщиков без детей.\n",
    "3. Количество детей не сильно влияет на изменение образования задолженности."
   ]
  },
  {
   "cell_type": "markdown",
   "id": "ac1375bb",
   "metadata": {},
   "source": [
    "<div class=\"alert alert-success\">\n",
    "<h2> Комментарий ревьюера V1<a class=\"tocSkip\"> </h2>\n",
    "\n",
    "<b>Все отлично!👍:</b> Именно так, все верно.\n",
    "</div>"
   ]
  },
  {
   "cell_type": "markdown",
   "id": "42cc4521",
   "metadata": {
    "deletable": false,
    "editable": false,
    "id": "97be82ca"
   },
   "source": [
    "#### 3.2 Есть ли зависимость между семейным положением и возвратом кредита в срок?"
   ]
  },
  {
   "cell_type": "code",
   "execution_count": 27,
   "id": "55821a44",
   "metadata": {
    "deletable": false,
    "id": "dc3f7ee8"
   },
   "outputs": [
    {
     "data": {
      "text/plain": [
       "женат / замужем          12261\n",
       "гражданский брак          4134\n",
       "Не женат / не замужем     2796\n",
       "в разводе                 1189\n",
       "вдовец / вдова             951\n",
       "Name: family_status, dtype: int64"
      ]
     },
     "execution_count": 27,
     "metadata": {},
     "output_type": "execute_result"
    }
   ],
   "source": [
    "# Ваш код будет здесь. Вы можете создавать новые ячейки.\n",
    "# Выясним уникальные значения семейного положения\n",
    "data['family_status'].value_counts()"
   ]
  },
  {
   "cell_type": "code",
   "execution_count": 28,
   "id": "b10feca1",
   "metadata": {},
   "outputs": [
    {
     "name": "stdout",
     "output_type": "stream",
     "text": [
      "Конверсия для заемщиков в статусе женат/замужем равна: 7.561%\n",
      "Конверсия для заемщиков в статусе гражданский брак равна: 9.313%\n",
      "Конверсия для заемщиков в статусе вдовец/вдова равна: 6.625%\n",
      "Конверсия для заемщиков в статусе в разводе равна: 7.065%\n",
      "Конверсия для заемщиков в статусе не женат/не замужем равна: 9.764%\n"
     ]
    }
   ],
   "source": [
    "# Выясним есть ли зависимость от семейного положения об разования задолженности\n",
    "family_status_0 = data[data['family_status_id'] == 0]['family_status_id'].count()\n",
    "family_status_debt_0 = data[(data['family_status_id'] == 0) & (data['debt'] == 1)]['family_status_id'].count()\n",
    "family_status_1 = data[data['family_status_id'] == 1]['family_status_id'].count()\n",
    "family_status_debt_1 = data[(data['family_status_id'] == 1) & (data['debt'] == 1)]['family_status_id'].count()\n",
    "family_status_2 = data[data['family_status_id'] == 2]['family_status_id'].count()\n",
    "family_status_debt_2 = data[(data['family_status_id'] == 2) & (data['debt'] == 1)]['family_status_id'].count()\n",
    "family_status_3 = data[data['family_status_id'] == 3]['family_status_id'].count()\n",
    "family_status_debt_3 = data[(data['family_status_id'] == 3) & (data['debt'] == 1)]['family_status_id'].count()\n",
    "family_status_4 = data[data['family_status_id'] == 4]['family_status_id'].count()\n",
    "family_status_debt_4 = data[(data['family_status_id'] == 4) & (data['debt'] == 1)]['family_status_id'].count()\n",
    "\n",
    "conversion_family_status_0 = family_status_debt_0 / family_status_0\n",
    "conversion_family_status_1 = family_status_debt_1 / family_status_1\n",
    "conversion_family_status_2 = family_status_debt_2 / family_status_2\n",
    "conversion_family_status_3 = family_status_debt_3 / family_status_3\n",
    "conversion_family_status_4 = family_status_debt_4 / family_status_4\n",
    "\n",
    "print(f'Конверсия для заемщиков в статусе женат/замужем равна: {conversion_family_status_0:.3%}')\n",
    "print(f'Конверсия для заемщиков в статусе гражданский брак равна: {conversion_family_status_1:.3%}')\n",
    "print(f'Конверсия для заемщиков в статусе вдовец/вдова равна: {conversion_family_status_2:.3%}')\n",
    "print(f'Конверсия для заемщиков в статусе в разводе равна: {conversion_family_status_3:.3%}')\n",
    "print(f'Конверсия для заемщиков в статусе не женат/не замужем равна: {conversion_family_status_4:.3%}')"
   ]
  },
  {
   "cell_type": "markdown",
   "id": "12b33de7",
   "metadata": {},
   "source": [
    "<div class=\"alert alert-block alert-danger\">\n",
    "<h2> Комментарий ревьюера V1<a class=\"tocSkip\"></h2>\n",
    "\n",
    "    \n",
    "<b>На доработку🤔:</b>\n",
    "В этом и во всех последующих пунктах нужно построить сводные таблицы, как я описал выше.\n",
    "</div>"
   ]
  },
  {
   "cell_type": "code",
   "execution_count": 29,
   "id": "68d41562",
   "metadata": {},
   "outputs": [
    {
     "data": {
      "text/html": [
       "<div>\n",
       "<style scoped>\n",
       "    .dataframe tbody tr th:only-of-type {\n",
       "        vertical-align: middle;\n",
       "    }\n",
       "\n",
       "    .dataframe tbody tr th {\n",
       "        vertical-align: top;\n",
       "    }\n",
       "\n",
       "    .dataframe thead th {\n",
       "        text-align: right;\n",
       "    }\n",
       "</style>\n",
       "<table border=\"1\" class=\"dataframe\">\n",
       "  <thead>\n",
       "    <tr style=\"text-align: right;\">\n",
       "      <th></th>\n",
       "      <th>Кол-во просрочек</th>\n",
       "      <th>Количество заемщиков</th>\n",
       "      <th>Доля просрочек</th>\n",
       "    </tr>\n",
       "    <tr>\n",
       "      <th>family_status</th>\n",
       "      <th></th>\n",
       "      <th></th>\n",
       "      <th></th>\n",
       "    </tr>\n",
       "  </thead>\n",
       "  <tbody>\n",
       "    <tr>\n",
       "      <th>вдовец / вдова</th>\n",
       "      <td>63</td>\n",
       "      <td>951</td>\n",
       "      <td>6.624606</td>\n",
       "    </tr>\n",
       "    <tr>\n",
       "      <th>в разводе</th>\n",
       "      <td>84</td>\n",
       "      <td>1189</td>\n",
       "      <td>7.064760</td>\n",
       "    </tr>\n",
       "    <tr>\n",
       "      <th>женат / замужем</th>\n",
       "      <td>927</td>\n",
       "      <td>12261</td>\n",
       "      <td>7.560558</td>\n",
       "    </tr>\n",
       "    <tr>\n",
       "      <th>гражданский брак</th>\n",
       "      <td>385</td>\n",
       "      <td>4134</td>\n",
       "      <td>9.313014</td>\n",
       "    </tr>\n",
       "    <tr>\n",
       "      <th>Не женат / не замужем</th>\n",
       "      <td>273</td>\n",
       "      <td>2796</td>\n",
       "      <td>9.763948</td>\n",
       "    </tr>\n",
       "  </tbody>\n",
       "</table>\n",
       "</div>"
      ],
      "text/plain": [
       "                       Кол-во просрочек  Количество заемщиков  Доля просрочек\n",
       "family_status                                                                \n",
       "вдовец / вдова                       63                   951        6.624606\n",
       "в разводе                            84                  1189        7.064760\n",
       "женат / замужем                     927                 12261        7.560558\n",
       "гражданский брак                    385                  4134        9.313014\n",
       "Не женат / не замужем               273                  2796        9.763948"
      ]
     },
     "execution_count": 29,
     "metadata": {},
     "output_type": "execute_result"
    }
   ],
   "source": [
    "data_pivot_family_status = data.pivot_table(index=['family_status'], values=['debt'], aggfunc=['sum', 'count'])\n",
    "data_pivot_family_status.columns=['Кол-во просрочек', 'Количество заемщиков']\n",
    "data_pivot_family_status['Доля просрочек'] = data_pivot_family_status['Кол-во просрочек'] / data_pivot_family_status['Количество заемщиков'] *100\n",
    "data_pivot_family_status = data_pivot_family_status.sort_values(by = 'Доля просрочек')\n",
    "data_pivot_family_status"
   ]
  },
  {
   "cell_type": "markdown",
   "id": "3c2d58e5",
   "metadata": {},
   "source": [
    "<div class=\"alert alert-success\">\n",
    "<h2> Комментарий ревьюера V2<a class=\"tocSkip\"> </h2>\n",
    "\n",
    "<b>Все отлично!👍:</b> Видно, что ты хорошо справляешься с методами построения сводных таблиц, так держать!\n",
    "</div>"
   ]
  },
  {
   "cell_type": "markdown",
   "id": "40a2a2d1",
   "metadata": {
    "deletable": false,
    "id": "1cef7837"
   },
   "source": [
    "**Вывод:** \n",
    "1. Наменьший риск представляют заемщики со статусами вдовец/вдова и в разводе.\n",
    "2. Наибольший риск представляют заемщики со статусами гражданский брак и не женат/не замужем.\n",
    "3. Заемщики с наименьшим риском, люди более возрастные и подходящие к выбору осторожнее. А заемщики, которые представляют наиблльший риск, люди более молодые и менее осторожные. А гражданский брак не накладывает той ответственности, который несет официальный статут (женат/замужем)."
   ]
  },
  {
   "cell_type": "markdown",
   "id": "357cb0b4",
   "metadata": {},
   "source": [
    "<div class=\"alert alert-success\">\n",
    "<h2> Комментарий ревьюера V1<a class=\"tocSkip\"> </h2>\n",
    "\n",
    "<b>Все отлично!👍:</b> Все верно, клиенты, побывавшие в браке, реже допускают просрочки.\n",
    "</div>"
   ]
  },
  {
   "cell_type": "markdown",
   "id": "bf9646a8",
   "metadata": {
    "deletable": false,
    "editable": false,
    "id": "1e8b2fca"
   },
   "source": [
    "#### 3.3 Есть ли зависимость между уровнем дохода и возвратом кредита в срок?"
   ]
  },
  {
   "cell_type": "code",
   "execution_count": 30,
   "id": "8e77fea3",
   "metadata": {
    "deletable": false,
    "id": "cd7e3720"
   },
   "outputs": [
    {
     "name": "stdout",
     "output_type": "stream",
     "text": [
      "Конверсия для заемщиков с доходом 1000001 и выше равна: 8.000%\n",
      "Конверсия для заемщиков с доходом 200001–1000000 равна: 7.060%\n",
      "Конверсия для заемщиков с доходом 50001–200000 равна: 8.498%\n",
      "Конверсия для заемщиков с доходом 30001–50000 равна: 6.017%\n",
      "Конверсия для заемщиков с доходом 0–30000 равна: 9.091%\n"
     ]
    }
   ],
   "source": [
    "# Ваш код будет здесь. Вы можете создавать новые ячейки.\n",
    "# Так как уровни дохода были раньше обозначены, то сразу перейдем к расчету зависимости\n",
    "\n",
    "total_income_a = data[data['total_income_category'] == 'A']['total_income_category'].count()\n",
    "total_income_debt_a = data[(data['total_income_category'] == 'A') & (data['debt'] == 1)]['total_income_category'].count()\n",
    "total_income_b = data[data['total_income_category'] == 'B']['total_income_category'].count()\n",
    "total_income_debt_b = data[(data['total_income_category'] == 'B') & (data['debt'] == 1)]['total_income_category'].count()\n",
    "total_income_c = data[data['total_income_category'] == 'C']['total_income_category'].count()\n",
    "total_income_debt_c = data[(data['total_income_category'] == 'C') & (data['debt'] == 1)]['total_income_category'].count()\n",
    "total_income_d = data[data['total_income_category'] == 'D']['total_income_category'].count()\n",
    "total_income_debt_d = data[(data['total_income_category'] == 'D') & (data['debt'] == 1)]['total_income_category'].count()\n",
    "total_income_e = data[data['total_income_category'] == 'E']['total_income_category'].count()\n",
    "total_income_debt_e = data[(data['total_income_category'] == 'E') & (data['debt'] == 1)]['total_income_category'].count()\n",
    "\n",
    "conversion_total_income_a = total_income_debt_a / total_income_a\n",
    "conversion_total_income_b = total_income_debt_b / total_income_b\n",
    "conversion_total_income_c = total_income_debt_c / total_income_c\n",
    "conversion_total_income_d = total_income_debt_d / total_income_d\n",
    "conversion_total_income_e = total_income_debt_e / total_income_e\n",
    "\n",
    "\n",
    "print(f'Конверсия для заемщиков с доходом 1000001 и выше равна: {conversion_total_income_a:.3%}')\n",
    "print(f'Конверсия для заемщиков с доходом 200001–1000000 равна: {conversion_total_income_b:.3%}')\n",
    "print(f'Конверсия для заемщиков с доходом 50001–200000 равна: {conversion_total_income_c:.3%}')\n",
    "print(f'Конверсия для заемщиков с доходом 30001–50000 равна: {conversion_total_income_d:.3%}')\n",
    "print(f'Конверсия для заемщиков с доходом 0–30000 равна: {conversion_total_income_e:.3%}')"
   ]
  },
  {
   "cell_type": "markdown",
   "id": "589238e0",
   "metadata": {
    "deletable": false,
    "id": "e8593def"
   },
   "source": [
    "**Вывод:** \n",
    "1. Из данных видно, что по образованию задолженности риск представляют заемщики среднего класса.\n",
    "2. Неудивительно, что наибольший риск представляют заемщики с низким уровнем дохода.\n",
    "3. Удивительно, что заемщики с высоким уровнем дохода имеют довольно высокий риск образования задолженности."
   ]
  },
  {
   "cell_type": "markdown",
   "id": "a2abce52",
   "metadata": {},
   "source": [
    "<div class=\"alert alert-block alert-danger\">\n",
    "<h2> Комментарий ревьюера V1<a class=\"tocSkip\"></h2>\n",
    "\n",
    "    \n",
    "<b>На доработку🤔:</b>\n",
    "Обрати внимание на распределение клиентов по группам. Можно ли учитывать все группы при выявлении зависимости?\n",
    "    \n",
    "Подсказка: зависимость нужно определять только по 2 группам с достаточным количеством клиентов.\n",
    "</div>"
   ]
  },
  {
   "cell_type": "markdown",
   "id": "25cd30f5",
   "metadata": {},
   "source": [
    "Привет, Анзор! \n",
    "Первый раз обращаюсь к тебе и сразу на \"ты\", так как ты просил на \"ты\".\n",
    "Не буду тебе воду лить про всю \"эту\" ситуацию (СВО) и о том, что только как неделю назад попал в конечную точку.\n",
    "Я лишь хочу извиниться, что так сильно задерживаю с обраткой. Система пустила дальше изучать и я еще раз изивиняюсь за время. \n",
    "\n",
    "\n",
    "\n",
    "По поводу определения только двух групп.\n",
    "Согласен с тобой по большому счету, но думаю так. Если нам дали разделение/классификацию (при условии, что действительно нам дали, а не сами ее придумали) по доходам, то заказчик хотел бы видеть, пусть даже и малое количество, но по всей классификации."
   ]
  },
  {
   "cell_type": "markdown",
   "id": "ccf0eae0",
   "metadata": {},
   "source": [
    "<div class=\"alert alert-success\">\n",
    "<h2> Комментарий ревьюера V2<a class=\"tocSkip\"> </h2>\n",
    "\n",
    "<b>Все отлично!👍:</b> Так заказчик же не имеет достоверной уверенности в том, что все группы содержат достаточное количество наблюдений, в реальной жизни таких ситуаций будет очень мало.\n",
    "</div>"
   ]
  },
  {
   "cell_type": "code",
   "execution_count": 31,
   "id": "2d920094",
   "metadata": {},
   "outputs": [
    {
     "data": {
      "text/html": [
       "<div>\n",
       "<style scoped>\n",
       "    .dataframe tbody tr th:only-of-type {\n",
       "        vertical-align: middle;\n",
       "    }\n",
       "\n",
       "    .dataframe tbody tr th {\n",
       "        vertical-align: top;\n",
       "    }\n",
       "\n",
       "    .dataframe thead th {\n",
       "        text-align: right;\n",
       "    }\n",
       "</style>\n",
       "<table border=\"1\" class=\"dataframe\">\n",
       "  <thead>\n",
       "    <tr style=\"text-align: right;\">\n",
       "      <th></th>\n",
       "      <th>Кол-во просрочек</th>\n",
       "      <th>Количество заемщиков</th>\n",
       "      <th>Доля просрочек</th>\n",
       "    </tr>\n",
       "  </thead>\n",
       "  <tbody>\n",
       "    <tr>\n",
       "      <th>от 30 001 до 50 000</th>\n",
       "      <td>21</td>\n",
       "      <td>349</td>\n",
       "      <td>6.017192</td>\n",
       "    </tr>\n",
       "    <tr>\n",
       "      <th>от 200 001 до 1 000 000</th>\n",
       "      <td>354</td>\n",
       "      <td>5014</td>\n",
       "      <td>7.060231</td>\n",
       "    </tr>\n",
       "    <tr>\n",
       "      <th>от 1 000 001 и выше</th>\n",
       "      <td>2</td>\n",
       "      <td>25</td>\n",
       "      <td>8.000000</td>\n",
       "    </tr>\n",
       "    <tr>\n",
       "      <th>от 50 001 до 200 000</th>\n",
       "      <td>1353</td>\n",
       "      <td>15921</td>\n",
       "      <td>8.498210</td>\n",
       "    </tr>\n",
       "    <tr>\n",
       "      <th>от 0 до 30 000</th>\n",
       "      <td>2</td>\n",
       "      <td>22</td>\n",
       "      <td>9.090909</td>\n",
       "    </tr>\n",
       "  </tbody>\n",
       "</table>\n",
       "</div>"
      ],
      "text/plain": [
       "                         Кол-во просрочек  Количество заемщиков  \\\n",
       "от 30 001 до 50 000                    21                   349   \n",
       "от 200 001 до 1 000 000               354                  5014   \n",
       "от 1 000 001 и выше                     2                    25   \n",
       "от 50 001 до 200 000                 1353                 15921   \n",
       "от 0 до 30 000                          2                    22   \n",
       "\n",
       "                         Доля просрочек  \n",
       "от 30 001 до 50 000            6.017192  \n",
       "от 200 001 до 1 000 000        7.060231  \n",
       "от 1 000 001 и выше            8.000000  \n",
       "от 50 001 до 200 000           8.498210  \n",
       "от 0 до 30 000                 9.090909  "
      ]
     },
     "execution_count": 31,
     "metadata": {},
     "output_type": "execute_result"
    }
   ],
   "source": [
    "data_pivot_total_income = data.pivot_table(index=['total_income_category'], values=['debt'], aggfunc=['sum', 'count'])\n",
    "data_pivot_total_income.columns=['Кол-во просрочек', 'Количество заемщиков']\n",
    "data_pivot_total_income['Доля просрочек'] = data_pivot_total_income['Кол-во просрочек'] / data_pivot_total_income['Количество заемщиков'] *100\n",
    "data_pivot_total_income = data_pivot_total_income.sort_values(by = 'Доля просрочек')\n",
    "data_pivot_total_income.index = ['от 30 001 до 50 000', 'от 200 001 до 1 000 000', 'от 1 000 001 и выше', 'от 50 001 до 200 000', 'от 0 до 30 000']\n",
    "data_pivot_total_income"
   ]
  },
  {
   "cell_type": "markdown",
   "id": "0b32e1ea",
   "metadata": {
    "deletable": false,
    "editable": false,
    "id": "99ecbd1f"
   },
   "source": [
    "#### 3.4 Как разные цели кредита влияют на его возврат в срок?"
   ]
  },
  {
   "cell_type": "code",
   "execution_count": 32,
   "id": "34409d5f",
   "metadata": {
    "deletable": false,
    "id": "2b687290"
   },
   "outputs": [
    {
     "data": {
      "text/plain": [
       "операции с недвижимостью    10751\n",
       "операции с автомобилем       4279\n",
       "получение образования        3988\n",
       "проведение свадьбы           2313\n",
       "Name: purpose_category, dtype: int64"
      ]
     },
     "execution_count": 32,
     "metadata": {},
     "output_type": "execute_result"
    }
   ],
   "source": [
    "# Ваш код будет здесь. Вы можете создавать новые ячейки.\n",
    "# Выясним распределение по целям кредита\n",
    "\n",
    "data['purpose_category'].value_counts()"
   ]
  },
  {
   "cell_type": "code",
   "execution_count": 33,
   "id": "fd06c9de",
   "metadata": {},
   "outputs": [
    {
     "name": "stdout",
     "output_type": "stream",
     "text": [
      "Конверсия для заемщиков с целью получения кредита на операции с недвижимостью равна: 7.255%\n",
      "Конверсия для заемщиков с целью получения кредита на операции с автомобилем равна: 9.348%\n",
      "Конверсия для заемщиков с целью кредита получение образования равна: 9.253%\n",
      "Конверсия для заемщиков с целью получения кредита на проведение свадьбы равна: 7.912%\n"
     ]
    }
   ],
   "source": [
    "# Выясним влиянеие целей на возврат ккредита\n",
    "\n",
    "purpose_real_estate = data[data['purpose_category'] == 'операции с недвижимостью']['total_income_category'].count()\n",
    "purpose_real_estate_debt = data[(data['purpose_category'] == 'операции с недвижимостью') & (data['debt'] == 1)]['purpose_category'].count()\n",
    "purpose_car = data[data['purpose_category'] == 'операции с автомобилем']['total_income_category'].count()\n",
    "purpose_car_debt = data[(data['purpose_category'] == 'операции с автомобилем') & (data['debt'] == 1)]['purpose_category'].count()\n",
    "purpose_education = data[data['purpose_category'] == 'получение образования']['total_income_category'].count()\n",
    "purpose_education_debt = data[(data['purpose_category'] == 'получение образования') & (data['debt'] == 1)]['purpose_category'].count()\n",
    "purpose_wedding = data[data['purpose_category'] == 'проведение свадьбы']['total_income_category'].count()\n",
    "purpose_wedding_debt = data[(data['purpose_category'] == 'проведение свадьбы') & (data['debt'] == 1)]['purpose_category'].count()\n",
    "\n",
    "conversion_purpose_al_estate = purpose_real_estate_debt / purpose_real_estate\n",
    "conversion_purpose_car = purpose_car_debt / purpose_car\n",
    "conversion_purpose_education = purpose_education_debt / purpose_education\n",
    "conversion_purpose_wedding = purpose_wedding_debt / purpose_wedding\n",
    "\n",
    "print(f'Конверсия для заемщиков с целью получения кредита на операции с недвижимостью равна: {conversion_purpose_al_estate:.3%}')\n",
    "print(f'Конверсия для заемщиков с целью получения кредита на операции с автомобилем равна: {conversion_purpose_car:.3%}')\n",
    "print(f'Конверсия для заемщиков с целью кредита получение образования равна: {conversion_purpose_education:.3%}')\n",
    "print(f'Конверсия для заемщиков с целью получения кредита на проведение свадьбы равна: {conversion_purpose_wedding:.3%}')\n"
   ]
  },
  {
   "cell_type": "markdown",
   "id": "9ca3ff1a",
   "metadata": {},
   "source": [
    "<div class=\"alert alert-block alert-danger\">\n",
    "<h2> Комментарий ревьюера V1<a class=\"tocSkip\"></h2>\n",
    "\n",
    "    \n",
    "<b>На доработку🤔:</b>\n",
    "Напоминаю про построение сводных таблиц.\n",
    "</div>"
   ]
  },
  {
   "cell_type": "code",
   "execution_count": 34,
   "id": "0afd6a45",
   "metadata": {},
   "outputs": [
    {
     "data": {
      "text/html": [
       "<div>\n",
       "<style scoped>\n",
       "    .dataframe tbody tr th:only-of-type {\n",
       "        vertical-align: middle;\n",
       "    }\n",
       "\n",
       "    .dataframe tbody tr th {\n",
       "        vertical-align: top;\n",
       "    }\n",
       "\n",
       "    .dataframe thead th {\n",
       "        text-align: right;\n",
       "    }\n",
       "</style>\n",
       "<table border=\"1\" class=\"dataframe\">\n",
       "  <thead>\n",
       "    <tr style=\"text-align: right;\">\n",
       "      <th></th>\n",
       "      <th>Кол-во просрочек</th>\n",
       "      <th>Количество заемщиков</th>\n",
       "      <th>Доля просрочек</th>\n",
       "    </tr>\n",
       "    <tr>\n",
       "      <th>purpose_category</th>\n",
       "      <th></th>\n",
       "      <th></th>\n",
       "      <th></th>\n",
       "    </tr>\n",
       "  </thead>\n",
       "  <tbody>\n",
       "    <tr>\n",
       "      <th>операции с недвижимостью</th>\n",
       "      <td>780</td>\n",
       "      <td>10751</td>\n",
       "      <td>7.255139</td>\n",
       "    </tr>\n",
       "    <tr>\n",
       "      <th>проведение свадьбы</th>\n",
       "      <td>183</td>\n",
       "      <td>2313</td>\n",
       "      <td>7.911803</td>\n",
       "    </tr>\n",
       "    <tr>\n",
       "      <th>получение образования</th>\n",
       "      <td>369</td>\n",
       "      <td>3988</td>\n",
       "      <td>9.252758</td>\n",
       "    </tr>\n",
       "    <tr>\n",
       "      <th>операции с автомобилем</th>\n",
       "      <td>400</td>\n",
       "      <td>4279</td>\n",
       "      <td>9.347978</td>\n",
       "    </tr>\n",
       "  </tbody>\n",
       "</table>\n",
       "</div>"
      ],
      "text/plain": [
       "                          Кол-во просрочек  Количество заемщиков  \\\n",
       "purpose_category                                                   \n",
       "операции с недвижимостью               780                 10751   \n",
       "проведение свадьбы                     183                  2313   \n",
       "получение образования                  369                  3988   \n",
       "операции с автомобилем                 400                  4279   \n",
       "\n",
       "                          Доля просрочек  \n",
       "purpose_category                          \n",
       "операции с недвижимостью        7.255139  \n",
       "проведение свадьбы              7.911803  \n",
       "получение образования           9.252758  \n",
       "операции с автомобилем          9.347978  "
      ]
     },
     "execution_count": 34,
     "metadata": {},
     "output_type": "execute_result"
    }
   ],
   "source": [
    "data_pivot_purpose = data.pivot_table(index=['purpose_category'], values=['debt'], aggfunc=['sum', 'count'])\n",
    "data_pivot_purpose.columns=['Кол-во просрочек', 'Количество заемщиков']\n",
    "data_pivot_purpose['Доля просрочек'] = data_pivot_purpose['Кол-во просрочек'] / data_pivot_purpose['Количество заемщиков'] *100\n",
    "data_pivot_purpose = data_pivot_purpose.sort_values(by = 'Доля просрочек')\n",
    "data_pivot_purpose"
   ]
  },
  {
   "cell_type": "markdown",
   "id": "42fa2f29",
   "metadata": {},
   "source": [
    "<div class=\"alert alert-success\">\n",
    "<h2> Комментарий ревьюера V2<a class=\"tocSkip\"> </h2>\n",
    "\n",
    "<b>Все отлично!👍:</b> Все верно построил, так держать!\n",
    "</div>"
   ]
  },
  {
   "cell_type": "markdown",
   "id": "c16162dd",
   "metadata": {
    "deletable": false,
    "id": "b4bb2ce6"
   },
   "source": [
    "**Вывод:** \n",
    "1. Выгоднее всего давать кредиты на недвижимость.\n",
    "2. Выдача кредитов на автомобиль и образование сопряжена с более высоким риском."
   ]
  },
  {
   "cell_type": "markdown",
   "id": "31671c30",
   "metadata": {},
   "source": [
    "<div class=\"alert alert-success\">\n",
    "<h2> Комментарий ревьюера V1<a class=\"tocSkip\"> </h2>\n",
    "\n",
    "<b>Все отлично!👍:</b> Все верно, молодец!\n",
    "</div>"
   ]
  },
  {
   "cell_type": "markdown",
   "id": "1c500e8f",
   "metadata": {
    "deletable": false,
    "editable": false,
    "id": "09c3ac4c"
   },
   "source": [
    "#### 3.5 Приведите возможные причины появления пропусков в исходных данных."
   ]
  },
  {
   "cell_type": "markdown",
   "id": "1d7260c3",
   "metadata": {
    "deletable": false,
    "id": "9da2ceda"
   },
   "source": [
    "*Ответ:* \n",
    "Причины могут быть различные, как человеческий фактор, так и сбои в системе. Но в данном случае отсутствие данный в столбце days_employed вело за собой отсутствие данный в столбце total_income или же наоборот."
   ]
  },
  {
   "cell_type": "markdown",
   "id": "41cede33",
   "metadata": {},
   "source": [
    "<div class=\"alert alert-success\">\n",
    "<h2> Комментарий ревьюера V1<a class=\"tocSkip\"> </h2>\n",
    "\n",
    "<b>Все отлично!👍:</b> Эти причины могут возникать в реальной жизни, согласен с тобой.\n",
    "</div>"
   ]
  },
  {
   "cell_type": "markdown",
   "id": "ee40df21",
   "metadata": {
    "deletable": false,
    "editable": false,
    "id": "7b0487d6"
   },
   "source": [
    "#### 3.6 Объясните, почему заполнить пропуски медианным значением — лучшее решение для количественных переменных."
   ]
  },
  {
   "cell_type": "markdown",
   "id": "e3a211e2",
   "metadata": {
    "deletable": false,
    "id": "7ecf2b8e"
   },
   "source": [
    "*Ответ:* \n",
    "Если оставить пропуски, то могут получится некорректные данные. Если заполнить и среней статисчической, то выйдет таже ситуация, что и с пропусками, только тут влияют аномальные данные. Поэтому медианный данные менее всего искозят реальную картину."
   ]
  },
  {
   "cell_type": "markdown",
   "id": "7e322322",
   "metadata": {},
   "source": [
    "<div class=\"alert alert-success\">\n",
    "<h2> Комментарий ревьюера V1<a class=\"tocSkip\"> </h2>\n",
    "\n",
    "<b>Все отлично!👍:</b> Абсолютно верны ответ, молодец!\n",
    "</div>"
   ]
  },
  {
   "cell_type": "markdown",
   "id": "dda60ef6",
   "metadata": {
    "deletable": false,
    "editable": false,
    "id": "6db5255a"
   },
   "source": [
    "### Шаг 4: общий вывод."
   ]
  },
  {
   "cell_type": "markdown",
   "id": "658ca97e",
   "metadata": {
    "deletable": false,
    "id": "bad65432"
   },
   "source": [
    "Напишите ваш общий вывод.\n",
    "Самый идеальный заемщик - это человек без детей, состоящий или состоявший в официальных отношениях, имеющий уровень дохода выше среднего и берущий деньги на недвижимость."
   ]
  },
  {
   "cell_type": "markdown",
   "id": "1b2a4c4b",
   "metadata": {},
   "source": [
    "<div class=\"alert alert-warning\">\n",
    "<h2> Комментарий ревьюера V1<a class=\"tocSkip\"> </h2>\n",
    "    \n",
    "<b>Некоторые замечания и рекомендации💡:</b> В итоговом выводе нужно достаточно подробно написать основные пункты выявленных зависимостей. Стоит доработать вывод с учетом моих комментариев по ходу работы."
   ]
  },
  {
   "cell_type": "markdown",
   "id": "851a54c2",
   "metadata": {},
   "source": [
    "Разброс просрочек по каждой из категорий примерно одинаковый.\n",
    "Разница в абсолютных цифрах не такая большая. \n",
    "\n",
    "Детально по категориям:\n",
    "\n",
    "Зависимость между семейным положением и возвратом кредита в срок\n",
    "\n",
    "По наличию детей:\n",
    "- Нет детей - 7.54%\n",
    "- Есть дети - 9.24%\n",
    "    - 1 ребенок - 9.24%\n",
    "    - 2 ребенка - 9.46%\n",
    "    - 3 ребенка - 8.18%\n",
    "    - 4 ребенка - 9.76%\n",
    "Абсолютная разница между минимальным и максимальным значением - 2.22%\n",
    "Относительная разница между минимальным и максимальным значением - 22.75%\n",
    "\n",
    "Зависимость между семейным положением и возвратом кредита в срок\n",
    "\n",
    "По семейному положению:\n",
    "- вдовец / вдова - 6.63%\n",
    "- в разводе - 7.07%\n",
    "- женат / замужем - 7.56%\n",
    "- гражданский брак - 9.31%\n",
    "- не женат / не замужем - 9.76%\n",
    "Абсолютная разница между минимальным и максимальным значением - 3.13%\n",
    "Относительная разница между минимальным и максимальным значением - 32.07%\n",
    "\n",
    "Зависимость между уровнем дохода и возвратом кредита в срок\n",
    "\n",
    "По уровню дохода\n",
    "- От 30_001 до 50_000 - 6.02%\n",
    "- От 200_000 до 1_000_000 - 7.06%\n",
    "- От 1_000_001 и выше  - 8.00%\n",
    "- От 50_000 до 200_000 - 8.50\n",
    "- От 0 о 30_000 - 9.09%\n",
    "\n",
    "Абсолютная разница между минимальным и максимальным значением - 3.07%\n",
    "Относительная разница между минимальным и максимальным значением - 33.77%\n",
    "\n",
    "Влияние цели кредита на вероятность возврата кредита в срок\n",
    "\n",
    "По цели кредита\n",
    "- недвижимость - 7.26%\n",
    "- свадьба - 7.91%\n",
    "- образование - 9.25%\n",
    "- автомобиль - 9.35%\n",
    "Абсолютная разница между минимальным и максимальным значением - 2.09%\n",
    "Относительная разница между минимальным и максимальным значением - 22.35%\n",
    "\n",
    "Из этого можно сделать вывод, что люди со сверхдоходами не так часто нуждаются в кредитах, а также и то, что люди с малым количеством дохода также опасаются их брать.\n",
    "\n",
    "Несмотря на схожий в процентном отношении разброс значений, наибольшее влияние на вероятность просрочки показывает именно семейное положение. Во вторую очередь, следует обращать внимание на уровень дохода. Наименьшее влияние оказывают цели кредита и наличие детей."
   ]
  },
  {
   "cell_type": "markdown",
   "id": "38c87b8e",
   "metadata": {},
   "source": [
    "<div class=\"alert alert-success\">\n",
    "<h2> Комментарий ревьюера V2<a class=\"tocSkip\"> </h2>\n",
    "\n",
    "<b>Все отлично!👍:</b> Отличный вывод, все четко, понятно и структурировано. Вывод в полной мере отражает существующие зависимости, и по нему можно принимать дальнейшие решения.\n",
    "</div>"
   ]
  },
  {
   "cell_type": "markdown",
   "id": "0cc93925",
   "metadata": {},
   "source": [
    "<div style=\"border:solid Chocolate 2px; padding: 40px\">\n",
    "\n",
    "**Общий вывод по проекту**\n",
    "\n",
    "Спасибо за твой проект! Я уверен, что ты приложил все усилия, чтобы сделать этот проект. Это видно по твоей работе, а сформулированные выводы отражают, насколько успешно ты осваиваешь материал. \n",
    "\n",
    "**Отмечу отдельные положительные моменты проекта🙂**:\n",
    " \n",
    "* Ты полностью следовал всем этапам выполнения задания и справился почти со всем. Хорошая работа!\n",
    "* Отдельно выделю некоторые выводы, которые ты смог сформулировать абсолютно точно!\n",
    "* У тебя опрятный и читаемый код. Возможно это звучит банально, однако при работе с чужим кодом это крайне важно)\n",
    "\n",
    "\n",
    "**На что стоит обратить внимание🤓**:\n",
    "    \n",
    "* Важно доработать итоговый вывод.\n",
    "* Нужно построить сводные таблицы во всех пунктах.\n",
    "* Какая особенность данных не позволяет сходу дать ответ на вопрос: \"Есть ли зависимость между уровнем дохода и возвратом кредита в срок?\"\n",
    "* Остальные рекомендации ты найдешь в моих комментариях!\n",
    "\n",
    "\n",
    "**Желаю удачи и жду твой проект на повторное ревью!**😉"
   ]
  },
  {
   "cell_type": "markdown",
   "id": "01a0b766",
   "metadata": {},
   "source": [
    "<div style=\"border:solid Chocolate 2px; padding: 40px\">\n",
    "\n",
    "Ты отлично справился с данной работой! Видно, как ты успешно осваиваешь материал, применяешь полученные знания на практике. Мне было очень приятно проверять твою работу, надеюсь, мои комментарии и советы были для тебя полезными.\n",
    "\n",
    "**Желаю удачи в последующем обучении и исследованиях!**😉"
   ]
  },
  {
   "cell_type": "code",
   "execution_count": null,
   "id": "46d77171",
   "metadata": {},
   "outputs": [],
   "source": []
  }
 ],
 "metadata": {
  "ExecuteTimeLog": [
   {
    "duration": 54,
    "start_time": "2022-11-06T19:58:19.152Z"
   },
   {
    "duration": 496,
    "start_time": "2022-11-06T20:15:23.075Z"
   },
   {
    "duration": 25,
    "start_time": "2022-11-06T20:15:23.574Z"
   },
   {
    "duration": 36,
    "start_time": "2022-11-06T20:15:23.601Z"
   },
   {
    "duration": 12,
    "start_time": "2022-11-06T20:15:23.639Z"
   },
   {
    "duration": 37,
    "start_time": "2022-11-06T20:15:23.654Z"
   },
   {
    "duration": 4,
    "start_time": "2022-11-06T20:15:23.693Z"
   },
   {
    "duration": 36,
    "start_time": "2022-11-06T20:15:23.700Z"
   },
   {
    "duration": 9,
    "start_time": "2022-11-06T20:15:23.738Z"
   },
   {
    "duration": 13,
    "start_time": "2022-11-06T20:15:23.749Z"
   },
   {
    "duration": 6,
    "start_time": "2022-11-06T20:15:23.763Z"
   },
   {
    "duration": 57,
    "start_time": "2022-11-06T20:15:23.771Z"
   },
   {
    "duration": 13,
    "start_time": "2022-11-06T20:15:23.830Z"
   },
   {
    "duration": 5,
    "start_time": "2022-11-06T20:15:23.844Z"
   },
   {
    "duration": 13,
    "start_time": "2022-11-06T20:15:23.851Z"
   },
   {
    "duration": 22,
    "start_time": "2022-11-06T20:15:23.865Z"
   },
   {
    "duration": 45,
    "start_time": "2022-11-06T20:15:23.889Z"
   },
   {
    "duration": 4,
    "start_time": "2022-11-06T20:15:23.937Z"
   },
   {
    "duration": 14,
    "start_time": "2022-11-06T20:15:23.942Z"
   },
   {
    "duration": 6,
    "start_time": "2022-11-06T20:15:23.958Z"
   },
   {
    "duration": 4,
    "start_time": "2022-11-06T20:15:23.965Z"
   },
   {
    "duration": 10,
    "start_time": "2022-11-06T20:15:23.970Z"
   },
   {
    "duration": 6,
    "start_time": "2022-11-06T20:15:23.982Z"
   },
   {
    "duration": 51,
    "start_time": "2022-11-06T20:15:23.989Z"
   },
   {
    "duration": 2,
    "start_time": "2022-11-06T20:15:24.043Z"
   },
   {
    "duration": 6,
    "start_time": "2022-11-06T20:15:24.047Z"
   },
   {
    "duration": 4,
    "start_time": "2022-11-06T20:15:24.054Z"
   },
   {
    "duration": 17,
    "start_time": "2022-11-06T20:18:48.891Z"
   },
   {
    "duration": 19,
    "start_time": "2022-11-06T20:26:54.767Z"
   },
   {
    "duration": 20,
    "start_time": "2022-11-06T20:27:55.341Z"
   },
   {
    "duration": 8,
    "start_time": "2022-11-06T20:50:30.351Z"
   },
   {
    "duration": 24,
    "start_time": "2022-11-06T21:08:00.289Z"
   },
   {
    "duration": 35,
    "start_time": "2022-11-06T21:53:29.066Z"
   },
   {
    "duration": 35,
    "start_time": "2022-11-06T21:56:21.251Z"
   },
   {
    "duration": 9,
    "start_time": "2022-11-06T22:04:21.961Z"
   },
   {
    "duration": 7,
    "start_time": "2022-11-06T22:05:28.421Z"
   },
   {
    "duration": 28,
    "start_time": "2022-11-06T22:09:06.386Z"
   },
   {
    "duration": 46,
    "start_time": "2022-11-10T23:51:00.528Z"
   },
   {
    "duration": 476,
    "start_time": "2022-11-10T23:51:10.638Z"
   },
   {
    "duration": 27,
    "start_time": "2022-11-10T23:51:11.117Z"
   },
   {
    "duration": 19,
    "start_time": "2022-11-10T23:51:11.146Z"
   },
   {
    "duration": 9,
    "start_time": "2022-11-10T23:51:11.167Z"
   },
   {
    "duration": 52,
    "start_time": "2022-11-10T23:51:11.178Z"
   },
   {
    "duration": 3,
    "start_time": "2022-11-10T23:51:11.232Z"
   },
   {
    "duration": 13,
    "start_time": "2022-11-10T23:51:11.237Z"
   },
   {
    "duration": 5,
    "start_time": "2022-11-10T23:51:11.252Z"
   },
   {
    "duration": 10,
    "start_time": "2022-11-10T23:51:11.258Z"
   },
   {
    "duration": 7,
    "start_time": "2022-11-10T23:51:11.270Z"
   },
   {
    "duration": 73,
    "start_time": "2022-11-10T23:51:11.279Z"
   },
   {
    "duration": 9,
    "start_time": "2022-11-10T23:51:11.353Z"
   },
   {
    "duration": 6,
    "start_time": "2022-11-10T23:51:11.364Z"
   },
   {
    "duration": 18,
    "start_time": "2022-11-10T23:51:11.372Z"
   },
   {
    "duration": 28,
    "start_time": "2022-11-10T23:51:11.392Z"
   },
   {
    "duration": 16,
    "start_time": "2022-11-10T23:51:11.421Z"
   },
   {
    "duration": 4,
    "start_time": "2022-11-10T23:51:11.438Z"
   },
   {
    "duration": 13,
    "start_time": "2022-11-10T23:51:11.443Z"
   },
   {
    "duration": 6,
    "start_time": "2022-11-10T23:51:11.458Z"
   },
   {
    "duration": 6,
    "start_time": "2022-11-10T23:51:11.465Z"
   },
   {
    "duration": 13,
    "start_time": "2022-11-10T23:51:11.472Z"
   },
   {
    "duration": 28,
    "start_time": "2022-11-10T23:51:11.486Z"
   },
   {
    "duration": 16,
    "start_time": "2022-11-10T23:51:11.515Z"
   },
   {
    "duration": 17,
    "start_time": "2022-11-10T23:51:11.532Z"
   },
   {
    "duration": 82,
    "start_time": "2022-11-10T23:51:11.551Z"
   },
   {
    "duration": 0,
    "start_time": "2022-11-10T23:51:11.635Z"
   },
   {
    "duration": 0,
    "start_time": "2022-11-10T23:51:11.636Z"
   },
   {
    "duration": 0,
    "start_time": "2022-11-10T23:51:11.637Z"
   },
   {
    "duration": 0,
    "start_time": "2022-11-10T23:51:11.638Z"
   },
   {
    "duration": 0,
    "start_time": "2022-11-10T23:51:11.640Z"
   },
   {
    "duration": 14,
    "start_time": "2022-11-10T23:52:29.794Z"
   },
   {
    "duration": 13,
    "start_time": "2022-11-10T23:55:21.894Z"
   },
   {
    "duration": 18,
    "start_time": "2022-11-10T23:55:31.754Z"
   },
   {
    "duration": 4,
    "start_time": "2022-11-10T23:57:40.014Z"
   },
   {
    "duration": 8,
    "start_time": "2022-11-11T00:35:48.855Z"
   },
   {
    "duration": 7,
    "start_time": "2022-11-11T00:38:05.885Z"
   },
   {
    "duration": 19,
    "start_time": "2022-11-11T00:38:14.009Z"
   },
   {
    "duration": 18,
    "start_time": "2022-11-11T00:39:03.369Z"
   },
   {
    "duration": 17,
    "start_time": "2022-11-11T00:41:36.794Z"
   },
   {
    "duration": 7,
    "start_time": "2022-11-11T00:44:29.730Z"
   },
   {
    "duration": 7,
    "start_time": "2022-11-11T00:44:43.440Z"
   },
   {
    "duration": 7,
    "start_time": "2022-11-11T00:45:12.110Z"
   },
   {
    "duration": 17,
    "start_time": "2022-11-11T00:46:54.769Z"
   },
   {
    "duration": 69,
    "start_time": "2022-11-11T00:49:47.424Z"
   },
   {
    "duration": 18,
    "start_time": "2022-11-11T00:49:58.858Z"
   },
   {
    "duration": 18,
    "start_time": "2022-11-11T00:52:18.125Z"
   },
   {
    "duration": 21,
    "start_time": "2022-11-11T00:53:36.430Z"
   },
   {
    "duration": 21,
    "start_time": "2022-11-11T00:55:39.084Z"
   },
   {
    "duration": 19,
    "start_time": "2022-11-11T00:58:07.540Z"
   },
   {
    "duration": 8,
    "start_time": "2022-11-11T00:58:51.324Z"
   },
   {
    "duration": 13,
    "start_time": "2022-11-11T00:59:17.430Z"
   },
   {
    "duration": 24,
    "start_time": "2022-11-11T01:00:09.604Z"
   },
   {
    "duration": 23,
    "start_time": "2022-11-11T01:01:02.177Z"
   },
   {
    "duration": 22,
    "start_time": "2022-11-11T01:01:33.470Z"
   },
   {
    "duration": 22,
    "start_time": "2022-11-11T01:05:15.624Z"
   },
   {
    "duration": 15,
    "start_time": "2022-11-11T01:06:04.129Z"
   },
   {
    "duration": 21,
    "start_time": "2022-11-11T01:10:47.309Z"
   },
   {
    "duration": 22,
    "start_time": "2022-11-11T01:19:13.724Z"
   },
   {
    "duration": 21,
    "start_time": "2022-11-11T01:19:43.170Z"
   },
   {
    "duration": 20,
    "start_time": "2022-11-11T01:19:48.025Z"
   },
   {
    "duration": 21,
    "start_time": "2022-11-11T01:21:20.864Z"
   },
   {
    "duration": 22,
    "start_time": "2022-11-11T01:21:55.705Z"
   },
   {
    "duration": 407,
    "start_time": "2022-11-11T01:23:25.259Z"
   },
   {
    "duration": 22,
    "start_time": "2022-11-11T01:23:25.669Z"
   },
   {
    "duration": 13,
    "start_time": "2022-11-11T01:23:25.693Z"
   },
   {
    "duration": 9,
    "start_time": "2022-11-11T01:23:25.712Z"
   },
   {
    "duration": 31,
    "start_time": "2022-11-11T01:23:25.723Z"
   },
   {
    "duration": 3,
    "start_time": "2022-11-11T01:23:25.756Z"
   },
   {
    "duration": 12,
    "start_time": "2022-11-11T01:23:25.761Z"
   },
   {
    "duration": 8,
    "start_time": "2022-11-11T01:23:25.775Z"
   },
   {
    "duration": 29,
    "start_time": "2022-11-11T01:23:25.784Z"
   },
   {
    "duration": 4,
    "start_time": "2022-11-11T01:23:25.814Z"
   },
   {
    "duration": 34,
    "start_time": "2022-11-11T01:23:25.820Z"
   },
   {
    "duration": 9,
    "start_time": "2022-11-11T01:23:25.856Z"
   },
   {
    "duration": 4,
    "start_time": "2022-11-11T01:23:25.867Z"
   },
   {
    "duration": 11,
    "start_time": "2022-11-11T01:23:25.874Z"
   },
   {
    "duration": 43,
    "start_time": "2022-11-11T01:23:25.886Z"
   },
   {
    "duration": 15,
    "start_time": "2022-11-11T01:23:25.930Z"
   },
   {
    "duration": 3,
    "start_time": "2022-11-11T01:23:25.947Z"
   },
   {
    "duration": 12,
    "start_time": "2022-11-11T01:23:25.951Z"
   },
   {
    "duration": 10,
    "start_time": "2022-11-11T01:23:25.965Z"
   },
   {
    "duration": 4,
    "start_time": "2022-11-11T01:23:25.976Z"
   },
   {
    "duration": 34,
    "start_time": "2022-11-11T01:23:25.981Z"
   },
   {
    "duration": 5,
    "start_time": "2022-11-11T01:23:26.017Z"
   },
   {
    "duration": 14,
    "start_time": "2022-11-11T01:23:26.023Z"
   },
   {
    "duration": 16,
    "start_time": "2022-11-11T01:23:26.038Z"
   },
   {
    "duration": 3,
    "start_time": "2022-11-11T01:23:26.055Z"
   },
   {
    "duration": 20,
    "start_time": "2022-11-11T01:23:26.059Z"
   },
   {
    "duration": 36,
    "start_time": "2022-11-11T01:23:26.080Z"
   },
   {
    "duration": 21,
    "start_time": "2022-11-11T01:23:26.117Z"
   },
   {
    "duration": 22,
    "start_time": "2022-11-11T01:23:26.139Z"
   },
   {
    "duration": 51,
    "start_time": "2022-11-11T01:23:26.163Z"
   },
   {
    "duration": 20,
    "start_time": "2022-11-11T01:23:26.216Z"
   },
   {
    "duration": 6,
    "start_time": "2022-11-11T01:23:26.237Z"
   },
   {
    "duration": 29,
    "start_time": "2022-11-11T01:23:26.245Z"
   },
   {
    "duration": 24,
    "start_time": "2022-11-11T01:26:53.593Z"
   },
   {
    "duration": 28,
    "start_time": "2022-11-11T01:27:10.203Z"
   },
   {
    "duration": 25,
    "start_time": "2022-11-11T01:27:28.433Z"
   },
   {
    "duration": 23,
    "start_time": "2022-11-11T01:28:56.973Z"
   },
   {
    "duration": 19,
    "start_time": "2022-11-11T01:29:41.664Z"
   },
   {
    "duration": 412,
    "start_time": "2022-11-11T01:35:49.347Z"
   },
   {
    "duration": 21,
    "start_time": "2022-11-11T01:35:49.760Z"
   },
   {
    "duration": 13,
    "start_time": "2022-11-11T01:35:49.782Z"
   },
   {
    "duration": 19,
    "start_time": "2022-11-11T01:35:49.797Z"
   },
   {
    "duration": 29,
    "start_time": "2022-11-11T01:35:49.817Z"
   },
   {
    "duration": 3,
    "start_time": "2022-11-11T01:35:49.847Z"
   },
   {
    "duration": 10,
    "start_time": "2022-11-11T01:35:49.851Z"
   },
   {
    "duration": 4,
    "start_time": "2022-11-11T01:35:49.862Z"
   },
   {
    "duration": 7,
    "start_time": "2022-11-11T01:35:49.867Z"
   },
   {
    "duration": 4,
    "start_time": "2022-11-11T01:35:49.876Z"
   },
   {
    "duration": 55,
    "start_time": "2022-11-11T01:35:49.881Z"
   },
   {
    "duration": 9,
    "start_time": "2022-11-11T01:35:49.938Z"
   },
   {
    "duration": 4,
    "start_time": "2022-11-11T01:35:49.948Z"
   },
   {
    "duration": 11,
    "start_time": "2022-11-11T01:35:49.953Z"
   },
   {
    "duration": 18,
    "start_time": "2022-11-11T01:35:49.965Z"
   },
   {
    "duration": 41,
    "start_time": "2022-11-11T01:35:49.985Z"
   },
   {
    "duration": 3,
    "start_time": "2022-11-11T01:35:50.028Z"
   },
   {
    "duration": 13,
    "start_time": "2022-11-11T01:35:50.032Z"
   },
   {
    "duration": 13,
    "start_time": "2022-11-11T01:35:50.046Z"
   },
   {
    "duration": 13,
    "start_time": "2022-11-11T01:35:50.060Z"
   },
   {
    "duration": 15,
    "start_time": "2022-11-11T01:35:50.075Z"
   },
   {
    "duration": 11,
    "start_time": "2022-11-11T01:35:50.091Z"
   },
   {
    "duration": 19,
    "start_time": "2022-11-11T01:35:50.103Z"
   },
   {
    "duration": 16,
    "start_time": "2022-11-11T01:35:50.124Z"
   },
   {
    "duration": 4,
    "start_time": "2022-11-11T01:35:50.141Z"
   },
   {
    "duration": 93,
    "start_time": "2022-11-11T01:35:50.146Z"
   },
   {
    "duration": 0,
    "start_time": "2022-11-11T01:35:50.242Z"
   },
   {
    "duration": 0,
    "start_time": "2022-11-11T01:35:50.244Z"
   },
   {
    "duration": 0,
    "start_time": "2022-11-11T01:35:50.245Z"
   },
   {
    "duration": 0,
    "start_time": "2022-11-11T01:35:50.248Z"
   },
   {
    "duration": 0,
    "start_time": "2022-11-11T01:35:50.248Z"
   },
   {
    "duration": 0,
    "start_time": "2022-11-11T01:35:50.250Z"
   },
   {
    "duration": 0,
    "start_time": "2022-11-11T01:35:50.251Z"
   },
   {
    "duration": 0,
    "start_time": "2022-11-11T01:35:50.252Z"
   },
   {
    "duration": 393,
    "start_time": "2022-11-11T01:36:35.468Z"
   },
   {
    "duration": 22,
    "start_time": "2022-11-11T01:36:35.863Z"
   },
   {
    "duration": 13,
    "start_time": "2022-11-11T01:36:35.886Z"
   },
   {
    "duration": 17,
    "start_time": "2022-11-11T01:36:35.900Z"
   },
   {
    "duration": 30,
    "start_time": "2022-11-11T01:36:35.919Z"
   },
   {
    "duration": 3,
    "start_time": "2022-11-11T01:36:35.950Z"
   },
   {
    "duration": 10,
    "start_time": "2022-11-11T01:36:35.954Z"
   },
   {
    "duration": 4,
    "start_time": "2022-11-11T01:36:35.965Z"
   },
   {
    "duration": 7,
    "start_time": "2022-11-11T01:36:35.971Z"
   },
   {
    "duration": 4,
    "start_time": "2022-11-11T01:36:35.979Z"
   },
   {
    "duration": 57,
    "start_time": "2022-11-11T01:36:35.984Z"
   },
   {
    "duration": 8,
    "start_time": "2022-11-11T01:36:36.042Z"
   },
   {
    "duration": 5,
    "start_time": "2022-11-11T01:36:36.051Z"
   },
   {
    "duration": 11,
    "start_time": "2022-11-11T01:36:36.058Z"
   },
   {
    "duration": 17,
    "start_time": "2022-11-11T01:36:36.070Z"
   },
   {
    "duration": 39,
    "start_time": "2022-11-11T01:36:36.088Z"
   },
   {
    "duration": 4,
    "start_time": "2022-11-11T01:36:36.128Z"
   },
   {
    "duration": 12,
    "start_time": "2022-11-11T01:36:36.133Z"
   },
   {
    "duration": 5,
    "start_time": "2022-11-11T01:36:36.146Z"
   },
   {
    "duration": 5,
    "start_time": "2022-11-11T01:36:36.152Z"
   },
   {
    "duration": 9,
    "start_time": "2022-11-11T01:36:36.158Z"
   },
   {
    "duration": 4,
    "start_time": "2022-11-11T01:36:36.169Z"
   },
   {
    "duration": 44,
    "start_time": "2022-11-11T01:36:36.174Z"
   },
   {
    "duration": 17,
    "start_time": "2022-11-11T01:36:36.219Z"
   },
   {
    "duration": 3,
    "start_time": "2022-11-11T01:36:36.237Z"
   },
   {
    "duration": 21,
    "start_time": "2022-11-11T01:36:36.242Z"
   },
   {
    "duration": 6,
    "start_time": "2022-11-11T01:36:36.264Z"
   },
   {
    "duration": 43,
    "start_time": "2022-11-11T01:36:36.271Z"
   },
   {
    "duration": 23,
    "start_time": "2022-11-11T01:36:36.315Z"
   },
   {
    "duration": 29,
    "start_time": "2022-11-11T01:36:36.339Z"
   },
   {
    "duration": 45,
    "start_time": "2022-11-11T01:36:36.369Z"
   },
   {
    "duration": 7,
    "start_time": "2022-11-11T01:36:36.415Z"
   },
   {
    "duration": 25,
    "start_time": "2022-11-11T01:36:36.423Z"
   },
   {
    "duration": 21,
    "start_time": "2022-11-11T01:36:36.450Z"
   },
   {
    "duration": 89,
    "start_time": "2022-11-11T01:38:43.153Z"
   },
   {
    "duration": 70,
    "start_time": "2022-11-11T01:39:31.323Z"
   },
   {
    "duration": 79,
    "start_time": "2022-11-11T01:55:35.278Z"
   }
  ],
  "colab": {
   "name": "dpp_template_part2.ipynb",
   "provenance": []
  },
  "kernelspec": {
   "display_name": "Python 3 (ipykernel)",
   "language": "python",
   "name": "python3"
  },
  "language_info": {
   "codemirror_mode": {
    "name": "ipython",
    "version": 3
   },
   "file_extension": ".py",
   "mimetype": "text/x-python",
   "name": "python",
   "nbconvert_exporter": "python",
   "pygments_lexer": "ipython3",
   "version": "3.9.12"
  },
  "toc": {
   "base_numbering": 1,
   "nav_menu": {},
   "number_sections": true,
   "sideBar": true,
   "skip_h1_title": true,
   "title_cell": "Table of Contents",
   "title_sidebar": "Contents",
   "toc_cell": false,
   "toc_position": {},
   "toc_section_display": true,
   "toc_window_display": false
  }
 },
 "nbformat": 4,
 "nbformat_minor": 5
}
